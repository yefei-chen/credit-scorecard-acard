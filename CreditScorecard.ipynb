{
 "cells": [
  {
   "cell_type": "markdown",
   "id": "dbeb4122",
   "metadata": {},
   "source": [
    "<p style=\"text-align:left\"><span style=\"font-size:30px\">基于评分卡的贷前用户信用风险预测</span></p>"
   ]
  },
  {
   "cell_type": "markdown",
   "id": "7ba7317b",
   "metadata": {},
   "source": [
    "<p><span style=\"font-size:20px\">一、问题概述</span></p>\n",
    "\n",
    "评分卡，一般是指用于小贷用户质量评分的评分卡表，它是以分数形式衡量用户信用风险大小的手段，衡量贷款人可能给金融机构带来经济损失的可能性。一般来说，评分卡分数越高，用户信用越好，风险越小。对于个人用户来说，评分卡分为四类：A卡、B卡、C卡和F卡。A卡（Application Scorecard）被称为申请评分卡或者申请者评级模型，用来帮助金融机构来判断是否应该借钱给一个新用户。如果某一个人风险太高，我们就可以拒绝贷款。B卡(Behavior Scorecard）和C卡（Collection Scorecard）分别用于评估借贷过程中用户行为和逾期的风险，F卡（Fraud Scorecard)则用于申请阶段对欺诈用户的识别。\n",
    "\n",
    "评分卡的原理就是利用历史客户数据，分析出有效的特征，并将连续特征离散化（即分箱）。然后使用逻辑回归模型确定每个特征的权重和基础阈值，最后根据阈值，权重确定基础分数和每个分箱的分数。本文中基于A卡建立逻辑回归模型进行贷前用户的信用风险预测，以帮助金融机构评估是否要批准贷款。\n",
    "\n",
    "通过评分卡进行贷前用户信用风险评估，不仅可以减少人工审核量，也可以提高放贷质量，是中小型金融机构必备的模型。\n",
    "\n"
   ]
  },
  {
   "cell_type": "markdown",
   "id": "ee227449",
   "metadata": {},
   "source": [
    "<p><span style=\"font-size:20px\">二、项目目标</span></p>\n",
    "\n",
    "本文以Kaggle上的借贷数据（数据来源：<a href=\"https://www.kaggle.com/competitions/GiveMeSomeCredit/data\">Kaggle - Give Me Some Credit</a>）为例，分别进行数据清洗、EDA（探索性数据分析）、特征工程（包括数据分箱和特征选取）、逻辑回归建模、评分卡转换五个步骤，构建完整的评分卡模型，并生成可供生产部署的分组逻辑和评分阈值。"
   ]
  },
  {
   "cell_type": "markdown",
   "id": "42dfc78f",
   "metadata": {},
   "source": [
    "<p><span style=\"font-size:20px\">三、理解数据</span></p>\n",
    "\n",
    "Give Me Some Credit数据包含四个部分：cs-training.csv、cs-test.csv、sampleEntry.csv、Data Dictionary.xls。其中cs-training.csv为训练集，包含10个属性特征和1个结果特征SeriousDlqin2yrs，表示贷款人逾期与否。其余特征的含义和数据类型在Data Dictionary.xls作出具体解释，如下表所示。cs-test.csv和sampleEntry.csv为提交用的测试数据集。\n",
    "\n",
    "在本文将仅使用cs-training.csv构建并验证模型效果。该训练集包括15w条借贷数据。"
   ]
  },
  {
   "cell_type": "markdown",
   "id": "03e0a46b",
   "metadata": {},
   "source": [
    "<table cellspacing=\"0\" style=\"border-collapse:collapse; height:233px; width:794px\">\n",
    "\t<tbody>\n",
    "\t\t<tr>\n",
    "\t\t\t<td style=\"background-color:#c0c0c0; border-color:#000000; border-style:solid; border-width:0.7px; height:19px; text-align:center; vertical-align:bottom; width:237px\"><span style=\"font-size:13px\"><span style=\"color:#000000\"><strong><span style=\"font-family:Arial\">Variable&nbsp;Name</span></strong></span></span></td>\n",
    "\t\t\t<td style=\"background-color:#c0c0c0; border-color:#000000; border-style:solid; border-width:0.7px; height:19px; text-align:center; vertical-align:bottom; width:442px\"><span style=\"font-size:13px\"><span style=\"color:#000000\"><strong><span style=\"font-family:Arial\">Description</span></strong></span></span></td>\n",
    "\t\t\t<td style=\"background-color:#c0c0c0; border-color:#000000; border-style:solid; border-width:0.7px; height:19px; text-align:center; vertical-align:bottom; width:112px\"><span style=\"font-size:13px\"><span style=\"color:#000000\"><strong><span style=\"font-family:Arial\">Type</span></strong></span></span></td>\n",
    "\t\t</tr>\n",
    "\t\t<tr>\n",
    "\t\t\t<td style=\"border-color:#000000; border-style:solid; border-width:0.7px; height:19px; text-align:center; vertical-align:bottom; width:237px\"><span style=\"font-size:13px\"><span style=\"color:#000000\"><strong><span style=\"font-family:Arial\">SeriousDlqin2yrs</span></strong></span></span></td>\n",
    "\t\t\t<td style=\"border-color:#000000; border-style:solid; border-width:0.7px; height:19px; text-align:center; vertical-align:bottom; width:442px\"><strong>逾期90天或更久</strong></td>\n",
    "\t\t\t<td style=\"border-color:#000000; border-style:solid; border-width:0.7px; height:19px; text-align:center; vertical-align:bottom; width:112px\"><span style=\"font-size:13px\"><span style=\"color:#000000\"><strong><span style=\"font-family:Arial\">Y/N</span></strong></span></span></td>\n",
    "\t\t</tr>\n",
    "\t\t<tr>\n",
    "\t\t\t<td style=\"border-color:#000000; border-style:solid; border-width:0.7px; height:24px; text-align:center; vertical-align:bottom; width:237px\"><span style=\"font-size:13px\"><span style=\"color:#000000\"><span style=\"font-family:Arial\">RevolvingUtilizationOfUnsecuredLines</span></span></span></td>\n",
    "\t\t\t<td style=\"border-color:#000000; border-style:solid; border-width:0.7px; height:24px; text-align:center; vertical-align:top; white-space:normal; width:442px\"><span style=\"color:#000000; font-family:Arial\">信用卡和个人信用欠款总额（房产除外）和非分期债务（如车贷）之和除以信用额度之和</span></td>\n",
    "\t\t\t<td style=\"border-color:#000000; border-style:solid; border-width:0.7px; height:24px; text-align:center; vertical-align:bottom; width:112px\"><span style=\"font-size:13px\"><span style=\"color:#000000\"><span style=\"font-family:Arial\">percentage</span></span></span></td>\n",
    "\t\t</tr>\n",
    "\t\t<tr>\n",
    "\t\t\t<td style=\"border-color:#000000; border-style:solid; border-width:0.7px; height:19px; text-align:center; vertical-align:bottom; width:237px\"><span style=\"font-size:13px\"><span style=\"color:#000000\"><span style=\"font-family:Arial\">age</span></span></span></td>\n",
    "\t\t\t<td style=\"border-color:#000000; border-style:solid; border-width:0.7px; height:19px; text-align:center; vertical-align:bottom; width:442px\"><span style=\"color:#000000; font-family:Arial\">借款人年龄</span></td>\n",
    "\t\t\t<td style=\"border-color:#000000; border-style:solid; border-width:0.7px; height:19px; text-align:center; vertical-align:bottom; width:112px\"><span style=\"font-size:13px\"><span style=\"color:#000000\"><span style=\"font-family:Arial\">integer</span></span></span></td>\n",
    "\t\t</tr>\n",
    "\t\t<tr>\n",
    "\t\t\t<td style=\"border-color:#000000; border-style:solid; border-width:0.7px; height:19px; text-align:center; vertical-align:bottom; width:237px\"><span style=\"font-size:13px\"><span style=\"color:#000000\"><span style=\"font-family:Arial\">NumberOfTime30-59DaysPastDueNotWorse</span></span></span></td>\n",
    "\t\t\t<td style=\"border-color:#000000; border-style:solid; border-width:0.7px; height:19px; vertical-align:bottom; width:442px\">\n",
    "\t\t\t<p style=\"text-align:center\"><span style=\"font-size:13px\"><span style=\"color:#000000\"><span style=\"font-family:Arial\">借款人逾期30-59天（但在过去两年中没有更长的逾期时长）的次数</span></span></span></p>\n",
    "\t\t\t</td>\n",
    "\t\t\t<td style=\"border-color:#000000; border-style:solid; border-width:0.7px; height:19px; text-align:center; vertical-align:bottom; width:112px\"><span style=\"font-size:13px\"><span style=\"color:#000000\"><span style=\"font-family:Arial\">integer</span></span></span></td>\n",
    "\t\t</tr>\n",
    "\t\t<tr>\n",
    "\t\t\t<td style=\"border-color:#000000; border-style:solid; border-width:0.7px; height:19px; text-align:center; vertical-align:bottom; width:237px\"><span style=\"font-size:13px\"><span style=\"color:#000000\"><span style=\"font-family:Arial\">DebtRatio</span></span></span></td>\n",
    "\t\t\t<td style=\"border-color:#000000; border-style:solid; border-width:0.7px; height:19px; vertical-align:bottom; width:442px\">\n",
    "\t\t\t<p style=\"text-align:center\"><span style=\"font-size:13px\"><span style=\"color:#000000\"><span style=\"font-family:Arial\">每月债务支付、赡养费、生活费用之和除以每月总收入</span></span></span></p>\n",
    "\t\t\t</td>\n",
    "\t\t\t<td style=\"border-color:#000000; border-style:solid; border-width:0.7px; height:19px; text-align:center; vertical-align:bottom; width:112px\"><span style=\"font-size:13px\"><span style=\"color:#000000\"><span style=\"font-family:Arial\">percentage</span></span></span></td>\n",
    "\t\t</tr>\n",
    "\t\t<tr>\n",
    "\t\t\t<td style=\"border-color:#000000; border-style:solid; border-width:0.7px; height:19px; text-align:center; vertical-align:bottom; width:237px\"><span style=\"font-size:13px\"><span style=\"color:#000000\"><span style=\"font-family:Arial\">MonthlyIncome</span></span></span></td>\n",
    "\t\t\t<td style=\"border-color:#000000; border-style:solid; border-width:0.7px; height:19px; text-align:center; vertical-align:bottom; width:442px\"><span style=\"color:#000000; font-family:Arial\">每月收入</span></td>\n",
    "\t\t\t<td style=\"border-color:#000000; border-style:solid; border-width:0.7px; height:19px; text-align:center; vertical-align:bottom; width:112px\"><span style=\"font-size:13px\"><span style=\"color:#000000\"><span style=\"font-family:Arial\">real</span></span></span></td>\n",
    "\t\t</tr>\n",
    "\t\t<tr>\n",
    "\t\t\t<td style=\"border-color:#000000; border-style:solid; border-width:0.7px; height:19px; text-align:center; vertical-align:bottom; width:237px\"><span style=\"font-size:13px\"><span style=\"color:#000000\"><span style=\"font-family:Arial\">NumberOfOpenCreditLinesAndLoans</span></span></span></td>\n",
    "\t\t\t<td style=\"border-color:#000000; border-style:solid; border-width:0.7px; height:19px; vertical-align:bottom; width:442px\">\n",
    "\t\t\t<p style=\"text-align:center\"><span style=\"font-size:13px\"><span style=\"color:#000000\"><span style=\"font-family:Arial\">未结贷款数量（分期付款例如车贷或抵押贷款）和信用额度（如信用卡）</span></span></span></p>\n",
    "\t\t\t</td>\n",
    "\t\t\t<td style=\"border-color:#000000; border-style:solid; border-width:0.7px; height:19px; text-align:center; vertical-align:bottom; width:112px\"><span style=\"font-size:13px\"><span style=\"color:#000000\"><span style=\"font-family:Arial\">integer</span></span></span></td>\n",
    "\t\t</tr>\n",
    "\t\t<tr>\n",
    "\t\t\t<td style=\"border-color:#000000; border-style:solid; border-width:0.7px; height:19px; text-align:center; vertical-align:bottom; width:237px\"><span style=\"font-size:13px\"><span style=\"color:#000000\"><span style=\"font-family:Arial\">NumberOfTimes90DaysLate</span></span></span></td>\n",
    "\t\t\t<td style=\"border-color:#000000; border-style:solid; border-width:0.7px; height:19px; text-align:center; vertical-align:bottom; width:442px\"><span style=\"color:#000000; font-family:Arial\">借款人逾期90天或更久的次数</span></td>\n",
    "\t\t\t<td style=\"border-color:#000000; border-style:solid; border-width:0.7px; height:19px; text-align:center; vertical-align:bottom; width:112px\"><span style=\"font-size:13px\"><span style=\"color:#000000\"><span style=\"font-family:Arial\">integer</span></span></span></td>\n",
    "\t\t</tr>\n",
    "\t\t<tr>\n",
    "\t\t\t<td style=\"border-color:#000000; border-style:solid; border-width:0.7px; height:19px; text-align:center; vertical-align:bottom; width:237px\"><span style=\"font-size:13px\"><span style=\"color:#000000\"><span style=\"font-family:Arial\">NumberRealEstateLoansOrLines</span></span></span></td>\n",
    "\t\t\t<td style=\"border-color:#000000; border-style:solid; border-width:0.7px; height:19px; vertical-align:bottom; width:442px\">\n",
    "\t\t\t<p style=\"text-align:center\"><span style=\"font-size:13px\"><span style=\"color:#000000\"><span style=\"font-family:Arial\">抵押贷款和房产贷款的数量（包括房屋净值信贷额度）</span></span></span></p>\n",
    "\t\t\t</td>\n",
    "\t\t\t<td style=\"border-color:#000000; border-style:solid; border-width:0.7px; height:19px; text-align:center; vertical-align:bottom; width:112px\"><span style=\"font-size:13px\"><span style=\"color:#000000\"><span style=\"font-family:Arial\">integer</span></span></span></td>\n",
    "\t\t</tr>\n",
    "\t\t<tr>\n",
    "\t\t\t<td style=\"border-color:#000000; border-style:solid; border-width:0.7px; height:19px; text-align:center; vertical-align:bottom; width:237px\"><span style=\"font-size:13px\"><span style=\"color:#000000\"><span style=\"font-family:Arial\">NumberOfTime60-89DaysPastDueNotWorse</span></span></span></td>\n",
    "\t\t\t<td style=\"border-color:#000000; border-style:solid; border-width:0.7px; height:19px; text-align:center; vertical-align:bottom; width:442px\"><span style=\"font-size:13px\"><span style=\"color:#000000\"><span style=\"font-family:Arial\">借款人逾期60-89天（但在过去两年中没有更长的逾期时长）的次数</span></span></span></td>\n",
    "\t\t\t<td style=\"border-color:#000000; border-style:solid; border-width:0.7px; height:19px; text-align:center; vertical-align:bottom; width:112px\"><span style=\"font-size:13px\"><span style=\"color:#000000\"><span style=\"font-family:Arial\">integer</span></span></span></td>\n",
    "\t\t</tr>\n",
    "\t\t<tr>\n",
    "\t\t\t<td style=\"border-color:#000000; border-style:solid; border-width:0.7px; height:19px; text-align:center; vertical-align:bottom; width:237px\"><span style=\"font-size:13px\"><span style=\"color:#000000\"><span style=\"font-family:Arial\">NumberOfDependents</span></span></span></td>\n",
    "\t\t\t<td style=\"border-color:#000000; border-style:solid; border-width:0.7px; height:19px; text-align:center; vertical-align:bottom; width:442px\"><span style=\"color:#000000; font-family:Arial\">家庭中的受抚养人数（例如配偶、子女等），不包括他们自己</span></td>\n",
    "\t\t\t<td style=\"border-color:#000000; border-style:solid; border-width:0.7px; height:19px; text-align:center; vertical-align:bottom; width:112px\"><span style=\"font-size:13px\"><span style=\"color:#000000\"><span style=\"font-family:Arial\">integer</span></span></span></td>\n",
    "\t\t</tr>\n",
    "\t</tbody>\n",
    "</table>\n"
   ]
  },
  {
   "cell_type": "markdown",
   "id": "db3b5609",
   "metadata": {},
   "source": [
    "<p><span style=\"font-size:20px\">四、数据清洗</span></p>"
   ]
  },
  {
   "cell_type": "code",
   "execution_count": 664,
   "id": "dad4118d",
   "metadata": {},
   "outputs": [],
   "source": [
    "import numpy as np\n",
    "import pandas as pd\n",
    "from sklearn.linear_model import LogisticRegression as LR\n",
    "import matplotlib.pyplot as plt\n",
    "import seaborn as sns\n",
    "%matplotlib inline\n",
    "import warnings\n",
    "warnings.filterwarnings('ignore')\n",
    "import math"
   ]
  },
  {
   "cell_type": "code",
   "execution_count": 665,
   "id": "b0fb1221",
   "metadata": {},
   "outputs": [],
   "source": [
    "#导入数据\n",
    "data = pd.read_csv(\"cs-training.csv\",index_col=0)"
   ]
  },
  {
   "cell_type": "code",
   "execution_count": 666,
   "id": "ec82da21",
   "metadata": {},
   "outputs": [
    {
     "data": {
      "text/html": [
       "<div>\n",
       "<style scoped>\n",
       "    .dataframe tbody tr th:only-of-type {\n",
       "        vertical-align: middle;\n",
       "    }\n",
       "\n",
       "    .dataframe tbody tr th {\n",
       "        vertical-align: top;\n",
       "    }\n",
       "\n",
       "    .dataframe thead th {\n",
       "        text-align: right;\n",
       "    }\n",
       "</style>\n",
       "<table border=\"1\" class=\"dataframe\">\n",
       "  <thead>\n",
       "    <tr style=\"text-align: right;\">\n",
       "      <th></th>\n",
       "      <th>SeriousDlqin2yrs</th>\n",
       "      <th>RevolvingUtilizationOfUnsecuredLines</th>\n",
       "      <th>age</th>\n",
       "      <th>NumberOfTime30-59DaysPastDueNotWorse</th>\n",
       "      <th>DebtRatio</th>\n",
       "      <th>MonthlyIncome</th>\n",
       "      <th>NumberOfOpenCreditLinesAndLoans</th>\n",
       "      <th>NumberOfTimes90DaysLate</th>\n",
       "      <th>NumberRealEstateLoansOrLines</th>\n",
       "      <th>NumberOfTime60-89DaysPastDueNotWorse</th>\n",
       "      <th>NumberOfDependents</th>\n",
       "    </tr>\n",
       "  </thead>\n",
       "  <tbody>\n",
       "    <tr>\n",
       "      <th>1</th>\n",
       "      <td>1</td>\n",
       "      <td>0.766127</td>\n",
       "      <td>45</td>\n",
       "      <td>2</td>\n",
       "      <td>0.802982</td>\n",
       "      <td>9120.0</td>\n",
       "      <td>13</td>\n",
       "      <td>0</td>\n",
       "      <td>6</td>\n",
       "      <td>0</td>\n",
       "      <td>2.0</td>\n",
       "    </tr>\n",
       "    <tr>\n",
       "      <th>2</th>\n",
       "      <td>0</td>\n",
       "      <td>0.957151</td>\n",
       "      <td>40</td>\n",
       "      <td>0</td>\n",
       "      <td>0.121876</td>\n",
       "      <td>2600.0</td>\n",
       "      <td>4</td>\n",
       "      <td>0</td>\n",
       "      <td>0</td>\n",
       "      <td>0</td>\n",
       "      <td>1.0</td>\n",
       "    </tr>\n",
       "    <tr>\n",
       "      <th>3</th>\n",
       "      <td>0</td>\n",
       "      <td>0.658180</td>\n",
       "      <td>38</td>\n",
       "      <td>1</td>\n",
       "      <td>0.085113</td>\n",
       "      <td>3042.0</td>\n",
       "      <td>2</td>\n",
       "      <td>1</td>\n",
       "      <td>0</td>\n",
       "      <td>0</td>\n",
       "      <td>0.0</td>\n",
       "    </tr>\n",
       "    <tr>\n",
       "      <th>4</th>\n",
       "      <td>0</td>\n",
       "      <td>0.233810</td>\n",
       "      <td>30</td>\n",
       "      <td>0</td>\n",
       "      <td>0.036050</td>\n",
       "      <td>3300.0</td>\n",
       "      <td>5</td>\n",
       "      <td>0</td>\n",
       "      <td>0</td>\n",
       "      <td>0</td>\n",
       "      <td>0.0</td>\n",
       "    </tr>\n",
       "    <tr>\n",
       "      <th>5</th>\n",
       "      <td>0</td>\n",
       "      <td>0.907239</td>\n",
       "      <td>49</td>\n",
       "      <td>1</td>\n",
       "      <td>0.024926</td>\n",
       "      <td>63588.0</td>\n",
       "      <td>7</td>\n",
       "      <td>0</td>\n",
       "      <td>1</td>\n",
       "      <td>0</td>\n",
       "      <td>0.0</td>\n",
       "    </tr>\n",
       "  </tbody>\n",
       "</table>\n",
       "</div>"
      ],
      "text/plain": [
       "   SeriousDlqin2yrs  RevolvingUtilizationOfUnsecuredLines  age  \\\n",
       "1                 1                              0.766127   45   \n",
       "2                 0                              0.957151   40   \n",
       "3                 0                              0.658180   38   \n",
       "4                 0                              0.233810   30   \n",
       "5                 0                              0.907239   49   \n",
       "\n",
       "   NumberOfTime30-59DaysPastDueNotWorse  DebtRatio  MonthlyIncome  \\\n",
       "1                                     2   0.802982         9120.0   \n",
       "2                                     0   0.121876         2600.0   \n",
       "3                                     1   0.085113         3042.0   \n",
       "4                                     0   0.036050         3300.0   \n",
       "5                                     1   0.024926        63588.0   \n",
       "\n",
       "   NumberOfOpenCreditLinesAndLoans  NumberOfTimes90DaysLate  \\\n",
       "1                               13                        0   \n",
       "2                                4                        0   \n",
       "3                                2                        1   \n",
       "4                                5                        0   \n",
       "5                                7                        0   \n",
       "\n",
       "   NumberRealEstateLoansOrLines  NumberOfTime60-89DaysPastDueNotWorse  \\\n",
       "1                             6                                     0   \n",
       "2                             0                                     0   \n",
       "3                             0                                     0   \n",
       "4                             0                                     0   \n",
       "5                             1                                     0   \n",
       "\n",
       "   NumberOfDependents  \n",
       "1                 2.0  \n",
       "2                 1.0  \n",
       "3                 0.0  \n",
       "4                 0.0  \n",
       "5                 0.0  "
      ]
     },
     "execution_count": 666,
     "metadata": {},
     "output_type": "execute_result"
    }
   ],
   "source": [
    "data.head()"
   ]
  },
  {
   "cell_type": "code",
   "execution_count": 667,
   "id": "e775f5b6",
   "metadata": {},
   "outputs": [
    {
     "data": {
      "text/plain": [
       "(150000, 11)"
      ]
     },
     "execution_count": 667,
     "metadata": {},
     "output_type": "execute_result"
    }
   ],
   "source": [
    "data.shape"
   ]
  },
  {
   "cell_type": "code",
   "execution_count": 668,
   "id": "8d785000",
   "metadata": {},
   "outputs": [
    {
     "name": "stdout",
     "output_type": "stream",
     "text": [
      "<class 'pandas.core.frame.DataFrame'>\n",
      "Int64Index: 150000 entries, 1 to 150000\n",
      "Data columns (total 11 columns):\n",
      " #   Column                                Non-Null Count   Dtype  \n",
      "---  ------                                --------------   -----  \n",
      " 0   SeriousDlqin2yrs                      150000 non-null  int64  \n",
      " 1   RevolvingUtilizationOfUnsecuredLines  150000 non-null  float64\n",
      " 2   age                                   150000 non-null  int64  \n",
      " 3   NumberOfTime30-59DaysPastDueNotWorse  150000 non-null  int64  \n",
      " 4   DebtRatio                             150000 non-null  float64\n",
      " 5   MonthlyIncome                         120269 non-null  float64\n",
      " 6   NumberOfOpenCreditLinesAndLoans       150000 non-null  int64  \n",
      " 7   NumberOfTimes90DaysLate               150000 non-null  int64  \n",
      " 8   NumberRealEstateLoansOrLines          150000 non-null  int64  \n",
      " 9   NumberOfTime60-89DaysPastDueNotWorse  150000 non-null  int64  \n",
      " 10  NumberOfDependents                    146076 non-null  float64\n",
      "dtypes: float64(4), int64(7)\n",
      "memory usage: 13.7 MB\n"
     ]
    }
   ],
   "source": [
    "data.info()"
   ]
  },
  {
   "cell_type": "code",
   "execution_count": 669,
   "id": "b075ae3a",
   "metadata": {},
   "outputs": [
    {
     "data": {
      "text/plain": [
       "609"
      ]
     },
     "execution_count": 669,
     "metadata": {},
     "output_type": "execute_result"
    }
   ],
   "source": [
    "#检查重复值\n",
    "data.duplicated().sum()"
   ]
  },
  {
   "cell_type": "code",
   "execution_count": 670,
   "id": "afde3a30",
   "metadata": {},
   "outputs": [],
   "source": [
    "#过滤609条重复值\n",
    "data.drop_duplicates(inplace=True)"
   ]
  },
  {
   "cell_type": "code",
   "execution_count": 671,
   "id": "d449dc4b",
   "metadata": {},
   "outputs": [
    {
     "data": {
      "text/plain": [
       "0"
      ]
     },
     "execution_count": 671,
     "metadata": {},
     "output_type": "execute_result"
    }
   ],
   "source": [
    "#检查过滤效果\n",
    "data.duplicated().sum()"
   ]
  },
  {
   "cell_type": "code",
   "execution_count": 672,
   "id": "3dc538ec",
   "metadata": {},
   "outputs": [],
   "source": [
    "#删除重复值后，需要重新恢复索引\n",
    "data=data.reset_index()"
   ]
  },
  {
   "cell_type": "code",
   "execution_count": 673,
   "id": "afb75b3e",
   "metadata": {},
   "outputs": [
    {
     "name": "stdout",
     "output_type": "stream",
     "text": [
      "<class 'pandas.core.frame.DataFrame'>\n",
      "RangeIndex: 149391 entries, 0 to 149390\n",
      "Data columns (total 12 columns):\n",
      " #   Column                                Non-Null Count   Dtype  \n",
      "---  ------                                --------------   -----  \n",
      " 0   index                                 149391 non-null  int64  \n",
      " 1   SeriousDlqin2yrs                      149391 non-null  int64  \n",
      " 2   RevolvingUtilizationOfUnsecuredLines  149391 non-null  float64\n",
      " 3   age                                   149391 non-null  int64  \n",
      " 4   NumberOfTime30-59DaysPastDueNotWorse  149391 non-null  int64  \n",
      " 5   DebtRatio                             149391 non-null  float64\n",
      " 6   MonthlyIncome                         120170 non-null  float64\n",
      " 7   NumberOfOpenCreditLinesAndLoans       149391 non-null  int64  \n",
      " 8   NumberOfTimes90DaysLate               149391 non-null  int64  \n",
      " 9   NumberRealEstateLoansOrLines          149391 non-null  int64  \n",
      " 10  NumberOfTime60-89DaysPastDueNotWorse  149391 non-null  int64  \n",
      " 11  NumberOfDependents                    145563 non-null  float64\n",
      "dtypes: float64(4), int64(8)\n",
      "memory usage: 13.7 MB\n"
     ]
    }
   ],
   "source": [
    "#检查索引是否恢复\n",
    "data.info()"
   ]
  },
  {
   "cell_type": "code",
   "execution_count": 674,
   "id": "4951216b",
   "metadata": {},
   "outputs": [
    {
     "data": {
      "text/plain": [
       "index                                       0\n",
       "SeriousDlqin2yrs                            0\n",
       "RevolvingUtilizationOfUnsecuredLines        0\n",
       "age                                         0\n",
       "NumberOfTime30-59DaysPastDueNotWorse        0\n",
       "DebtRatio                                   0\n",
       "MonthlyIncome                           29221\n",
       "NumberOfOpenCreditLinesAndLoans             0\n",
       "NumberOfTimes90DaysLate                     0\n",
       "NumberRealEstateLoansOrLines                0\n",
       "NumberOfTime60-89DaysPastDueNotWorse        0\n",
       "NumberOfDependents                       3828\n",
       "dtype: int64"
      ]
     },
     "execution_count": 674,
     "metadata": {},
     "output_type": "execute_result"
    }
   ],
   "source": [
    "#检查缺失值\n",
    "#检查数据集中每一个特征的数据缺失情况\n",
    "data.isnull().sum()"
   ]
  },
  {
   "cell_type": "code",
   "execution_count": 675,
   "id": "b21e7b57",
   "metadata": {},
   "outputs": [
    {
     "data": {
      "text/plain": [
       "index                                   0.000000\n",
       "SeriousDlqin2yrs                        0.000000\n",
       "RevolvingUtilizationOfUnsecuredLines    0.000000\n",
       "age                                     0.000000\n",
       "NumberOfTime30-59DaysPastDueNotWorse    0.000000\n",
       "DebtRatio                               0.000000\n",
       "MonthlyIncome                           0.195601\n",
       "NumberOfOpenCreditLinesAndLoans         0.000000\n",
       "NumberOfTimes90DaysLate                 0.000000\n",
       "NumberRealEstateLoansOrLines            0.000000\n",
       "NumberOfTime60-89DaysPastDueNotWorse    0.000000\n",
       "NumberOfDependents                      0.025624\n",
       "dtype: float64"
      ]
     },
     "execution_count": 675,
     "metadata": {},
     "output_type": "execute_result"
    }
   ],
   "source": [
    "#查看每个特征缺失值比例\n",
    "data.isnull().sum()/data.shape[0]"
   ]
  },
  {
   "cell_type": "markdown",
   "id": "ae6fa6ac",
   "metadata": {},
   "source": [
    "MonthlyIncome和NumberOfDependents分别存在19.56%和2.56%的缺失值。对于较小的缺失比例，可以通过删除或均值的方式填补，MonthlyIncome缺失比例较大，且收入特征对于信用评分影响较大，因此可以考虑用四分位数进行填补，将所有空白值视为低收入群体。原因是高收入对于申请贷款是有利的，如果是收入良好的用户，会倾向于写上自己的收入情况，因此未填写的很大可能性是低收入用户。（在实际业务中，可以通过和业务人员沟通完善数据）。"
   ]
  },
  {
   "cell_type": "code",
   "execution_count": 676,
   "id": "8ba4bdf6",
   "metadata": {},
   "outputs": [],
   "source": [
    "#用四分位数补全MonthlyIncome\n",
    "per25=data.describe()['MonthlyIncome']['25%']\n",
    "data['MonthlyIncome']=data['MonthlyIncome'].replace(np.nan,per25)"
   ]
  },
  {
   "cell_type": "code",
   "execution_count": 677,
   "id": "bba626c3",
   "metadata": {},
   "outputs": [],
   "source": [
    "#用均值补全NumberOfDependents\n",
    "me = int(data['NumberOfDependents'].mean())\n",
    "data['NumberOfDependents'].fillna(me,inplace=True)"
   ]
  },
  {
   "cell_type": "code",
   "execution_count": 678,
   "id": "d2d76788",
   "metadata": {},
   "outputs": [
    {
     "data": {
      "text/plain": [
       "index                                   0.0\n",
       "SeriousDlqin2yrs                        0.0\n",
       "RevolvingUtilizationOfUnsecuredLines    0.0\n",
       "age                                     0.0\n",
       "NumberOfTime30-59DaysPastDueNotWorse    0.0\n",
       "DebtRatio                               0.0\n",
       "MonthlyIncome                           0.0\n",
       "NumberOfOpenCreditLinesAndLoans         0.0\n",
       "NumberOfTimes90DaysLate                 0.0\n",
       "NumberRealEstateLoansOrLines            0.0\n",
       "NumberOfTime60-89DaysPastDueNotWorse    0.0\n",
       "NumberOfDependents                      0.0\n",
       "dtype: float64"
      ]
     },
     "execution_count": 678,
     "metadata": {},
     "output_type": "execute_result"
    }
   ],
   "source": [
    "#检查每个特征缺失值比例\n",
    "data.isnull().sum()/data.shape[0]"
   ]
  },
  {
   "cell_type": "markdown",
   "id": "c71a6155",
   "metadata": {},
   "source": [
    "<p><span style=\"font-size:20px\">五、探索性数据分析</span></p>"
   ]
  },
  {
   "cell_type": "code",
   "execution_count": 679,
   "id": "60817baf",
   "metadata": {},
   "outputs": [],
   "source": [
    "colors=['#9FE2BF','#87CEEB']"
   ]
  },
  {
   "cell_type": "code",
   "execution_count": 680,
   "id": "0f737f9d",
   "metadata": {},
   "outputs": [
    {
     "name": "stdout",
     "output_type": "stream",
     "text": [
      "[93.30013186872034, 6.699868131279663]\n"
     ]
    },
    {
     "data": {
      "text/plain": [
       "Text(0.5, 1.0, 'Number of Defaulted/Not Defaulted Users')"
      ]
     },
     "execution_count": 680,
     "metadata": {},
     "output_type": "execute_result"
    },
    {
     "data": {
      "image/png": "[encoded data removed]",
      "text/plain": [
       "<Figure size 2000x500 with 2 Axes>"
      ]
     },
     "metadata": {},
     "output_type": "display_data"
    }
   ],
   "source": [
    "#首先，观测标签特征的分布\n",
    "l=list(data['SeriousDlqin2yrs'].value_counts())\n",
    "circle=[l[0]/sum(l)*100, l[1]/sum(l)*100]\n",
    "print(circle)\n",
    "\n",
    "fig=plt.subplots(nrows=1, ncols=2, figsize=(20,5))\n",
    "plt.subplot(1,2,1)\n",
    "plt.pie(circle, labels=['Not Defaulted User', 'Defaulted User'], autopct='%1.1f%%', startangle=90, explode=(0.1,0),colors=colors)\n",
    "plt.title('Default Percentage Distribution')\n",
    "\n",
    "plt.subplot(1,2,2)\n",
    "ax=sns.countplot(x='SeriousDlqin2yrs', data=data, palette=colors)\n",
    "for rect in ax.patches:\n",
    "    ax.text(rect.get_x()+rect.get_width()/2, rect.get_height()+2, rect.get_height(), horizontalalignment='center',fontsize=11)\n",
    "ax.set_xticklabels(['Not Defaulted User','Defaulted User'])\n",
    "\n",
    "plt.title('Number of Defaulted/Not Defaulted Users')"
   ]
  },
  {
   "cell_type": "markdown",
   "id": "9fd4a77f",
   "metadata": {},
   "source": [
    "所有数据中，6%的用户发生违约，而未违约用户的占比为93.3%。可以发现，这是一个非常不平衡的数据集，会影响预测的结果。因此，在建模之前，需要对样本进行平衡。"
   ]
  },
  {
   "cell_type": "code",
   "execution_count": 681,
   "id": "9c0a76b2",
   "metadata": {},
   "outputs": [
    {
     "data": {
      "text/plain": [
       "count    149391.000000\n",
       "mean          6.071087\n",
       "std         250.263672\n",
       "min           0.000000\n",
       "25%           0.030132\n",
       "50%           0.154235\n",
       "75%           0.556494\n",
       "max       50708.000000\n",
       "Name: RevolvingUtilizationOfUnsecuredLines, dtype: float64"
      ]
     },
     "execution_count": 681,
     "metadata": {},
     "output_type": "execute_result"
    }
   ],
   "source": [
    "#由于特征数目不多，依次观察每个特征的特点\n",
    "#RevolvingUtilizationOfUnsecuredLines \n",
    "data['RevolvingUtilizationOfUnsecuredLines'].describe()"
   ]
  },
  {
   "cell_type": "code",
   "execution_count": 682,
   "id": "1487122b",
   "metadata": {},
   "outputs": [
    {
     "data": {
      "text/plain": [
       "<AxesSubplot: xlabel='RevolvingUtilizationOfUnsecuredLines', ylabel='Density'>"
      ]
     },
     "execution_count": 682,
     "metadata": {},
     "output_type": "execute_result"
    },
    {
     "data": {
      "image/png": "[encoded data removed]",
      "text/plain": [
       "<Figure size 640x480 with 1 Axes>"
      ]
     },
     "metadata": {},
     "output_type": "display_data"
    }
   ],
   "source": [
    "sns.kdeplot(data[\"RevolvingUtilizationOfUnsecuredLines\"], color=colors[0])"
   ]
  },
  {
   "cell_type": "markdown",
   "id": "9a2e9f0f",
   "metadata": {},
   "source": [
    "<p>小结：</p>\n",
    "\n",
    "<ul>\n",
    "\t<li>RevolvingUtilizationOfUnsecuredLines，即信用卡和个人信用欠款总额（房产除外）和非分期债务（如车贷）之和除以信用额度之和，根据经验判断，随着该值增加，违约人数比例也会上升</li>\n",
    "\t<li>该特征的分布是右偏的，最大值为50708，说明很多用户欠款已经超过信用额度，甚至超过5w多倍</li>\n",
    "</ul>"
   ]
  },
  {
   "cell_type": "code",
   "execution_count": 683,
   "id": "da4638d5",
   "metadata": {},
   "outputs": [
    {
     "data": {
      "text/plain": [
       "count    149391.000000\n",
       "mean         52.306237\n",
       "std          14.725962\n",
       "min           0.000000\n",
       "25%          41.000000\n",
       "50%          52.000000\n",
       "75%          63.000000\n",
       "max         109.000000\n",
       "Name: age, dtype: float64"
      ]
     },
     "execution_count": 683,
     "metadata": {},
     "output_type": "execute_result"
    }
   ],
   "source": [
    "#age\n",
    "data['age'].describe()"
   ]
  },
  {
   "cell_type": "code",
   "execution_count": 684,
   "id": "54966647",
   "metadata": {},
   "outputs": [
    {
     "data": {
      "text/plain": [
       "<AxesSubplot: xlabel='age', ylabel='Density'>"
      ]
     },
     "execution_count": 684,
     "metadata": {},
     "output_type": "execute_result"
    },
    {
     "data": {
      "image/png": "[encoded data removed]",
      "text/plain": [
       "<Figure size 640x480 with 1 Axes>"
      ]
     },
     "metadata": {},
     "output_type": "display_data"
    }
   ],
   "source": [
    "sns.kdeplot(data[\"age\"], color=colors[0])"
   ]
  },
  {
   "cell_type": "code",
   "execution_count": 685,
   "id": "2b493651",
   "metadata": {},
   "outputs": [
    {
     "data": {
      "text/plain": [
       "14"
      ]
     },
     "execution_count": 685,
     "metadata": {},
     "output_type": "execute_result"
    }
   ],
   "source": [
    "#查看年龄小于10岁和年龄大于100岁的有多少\n",
    "(data['age']<10).sum()+(data['age']>100).sum()"
   ]
  },
  {
   "cell_type": "code",
   "execution_count": 686,
   "id": "e6f3487d",
   "metadata": {},
   "outputs": [],
   "source": [
    "#过滤异常年龄\n",
    "data=data[data['age']>=10]\n",
    "data=data[data['age']<=100]"
   ]
  },
  {
   "cell_type": "code",
   "execution_count": 687,
   "id": "af48a840",
   "metadata": {},
   "outputs": [
    {
     "data": {
      "text/plain": [
       "count    149377.000000\n",
       "mean         52.302115\n",
       "std          14.718202\n",
       "min          21.000000\n",
       "25%          41.000000\n",
       "50%          52.000000\n",
       "75%          63.000000\n",
       "max          99.000000\n",
       "Name: age, dtype: float64"
      ]
     },
     "execution_count": 687,
     "metadata": {},
     "output_type": "execute_result"
    }
   ],
   "source": [
    "data['age'].describe()"
   ]
  },
  {
   "cell_type": "code",
   "execution_count": 688,
   "id": "cab9b01f",
   "metadata": {},
   "outputs": [
    {
     "data": {
      "image/png": "[encoded data removed]",
      "text/plain": [
       "<Figure size 500x300 with 1 Axes>"
      ]
     },
     "metadata": {},
     "output_type": "display_data"
    }
   ],
   "source": [
    "#分别查看违约和未违约的人群分布\n",
    "fig = plt.subplots(nrows = 1,ncols = 1,figsize = (5,3))\n",
    "for i in range(1):\n",
    "    plt.subplot(1,1,i+1)\n",
    "    ax = sns.kdeplot(x=\"age\",data = data,hue = \"SeriousDlqin2yrs\",palette = colors)"
   ]
  },
  {
   "cell_type": "markdown",
   "id": "e30f17b5",
   "metadata": {},
   "source": [
    "<p>小结：</p>\n",
    "\n",
    "<ul>\n",
    "\t<li>Age，即贷款人年龄，分布基本符合正态分布规律</li>\n",
    "\t<li>排除10岁以下和100岁以上的异常用户</li>\n",
    "\t<li>可以看出未违约人群远大于违约人群，且违约人群趋向于年轻化</li>\n",
    "</ul>"
   ]
  },
  {
   "cell_type": "code",
   "execution_count": 689,
   "id": "3275d5e4",
   "metadata": {},
   "outputs": [
    {
     "data": {
      "text/html": [
       "<div>\n",
       "<style scoped>\n",
       "    .dataframe tbody tr th:only-of-type {\n",
       "        vertical-align: middle;\n",
       "    }\n",
       "\n",
       "    .dataframe tbody tr th {\n",
       "        vertical-align: top;\n",
       "    }\n",
       "\n",
       "    .dataframe thead th {\n",
       "        text-align: right;\n",
       "    }\n",
       "</style>\n",
       "<table border=\"1\" class=\"dataframe\">\n",
       "  <thead>\n",
       "    <tr style=\"text-align: right;\">\n",
       "      <th></th>\n",
       "      <th>NumberOfTime30-59DaysPastDueNotWorse</th>\n",
       "      <th>NumberOfTime60-89DaysPastDueNotWorse</th>\n",
       "      <th>NumberOfTimes90DaysLate</th>\n",
       "    </tr>\n",
       "  </thead>\n",
       "  <tbody>\n",
       "    <tr>\n",
       "      <th>count</th>\n",
       "      <td>149377.000000</td>\n",
       "      <td>149377.000000</td>\n",
       "      <td>149377.000000</td>\n",
       "    </tr>\n",
       "    <tr>\n",
       "      <th>mean</th>\n",
       "      <td>0.393903</td>\n",
       "      <td>0.212523</td>\n",
       "      <td>0.238142</td>\n",
       "    </tr>\n",
       "    <tr>\n",
       "      <th>std</th>\n",
       "      <td>3.853130</td>\n",
       "      <td>3.810701</td>\n",
       "      <td>3.826343</td>\n",
       "    </tr>\n",
       "    <tr>\n",
       "      <th>min</th>\n",
       "      <td>0.000000</td>\n",
       "      <td>0.000000</td>\n",
       "      <td>0.000000</td>\n",
       "    </tr>\n",
       "    <tr>\n",
       "      <th>25%</th>\n",
       "      <td>0.000000</td>\n",
       "      <td>0.000000</td>\n",
       "      <td>0.000000</td>\n",
       "    </tr>\n",
       "    <tr>\n",
       "      <th>50%</th>\n",
       "      <td>0.000000</td>\n",
       "      <td>0.000000</td>\n",
       "      <td>0.000000</td>\n",
       "    </tr>\n",
       "    <tr>\n",
       "      <th>75%</th>\n",
       "      <td>0.000000</td>\n",
       "      <td>0.000000</td>\n",
       "      <td>0.000000</td>\n",
       "    </tr>\n",
       "    <tr>\n",
       "      <th>max</th>\n",
       "      <td>98.000000</td>\n",
       "      <td>98.000000</td>\n",
       "      <td>98.000000</td>\n",
       "    </tr>\n",
       "  </tbody>\n",
       "</table>\n",
       "</div>"
      ],
      "text/plain": [
       "       NumberOfTime30-59DaysPastDueNotWorse  \\\n",
       "count                         149377.000000   \n",
       "mean                               0.393903   \n",
       "std                                3.853130   \n",
       "min                                0.000000   \n",
       "25%                                0.000000   \n",
       "50%                                0.000000   \n",
       "75%                                0.000000   \n",
       "max                               98.000000   \n",
       "\n",
       "       NumberOfTime60-89DaysPastDueNotWorse  NumberOfTimes90DaysLate  \n",
       "count                         149377.000000            149377.000000  \n",
       "mean                               0.212523                 0.238142  \n",
       "std                                3.810701                 3.826343  \n",
       "min                                0.000000                 0.000000  \n",
       "25%                                0.000000                 0.000000  \n",
       "50%                                0.000000                 0.000000  \n",
       "75%                                0.000000                 0.000000  \n",
       "max                               98.000000                98.000000  "
      ]
     },
     "execution_count": 689,
     "metadata": {},
     "output_type": "execute_result"
    }
   ],
   "source": [
    "#逾期指标，包括：\n",
    "#NumberOfTime30-59DaysPastDueNotWorse\n",
    "#NumberOfTime60-89DaysPastDueNotWorse\n",
    "#NumberOfTimes90DaysLate\n",
    "data[['NumberOfTime30-59DaysPastDueNotWorse','NumberOfTime60-89DaysPastDueNotWorse','NumberOfTimes90DaysLate']].describe()"
   ]
  },
  {
   "cell_type": "code",
   "execution_count": 690,
   "id": "5de1f772",
   "metadata": {},
   "outputs": [
    {
     "data": {
      "text/plain": [
       "0     125441\n",
       "1      16032\n",
       "2       4597\n",
       "3       1754\n",
       "4        747\n",
       "5        342\n",
       "98       220\n",
       "6        140\n",
       "7         54\n",
       "8         25\n",
       "9         12\n",
       "96         5\n",
       "10         4\n",
       "12         2\n",
       "13         1\n",
       "11         1\n",
       "Name: NumberOfTime30-59DaysPastDueNotWorse, dtype: int64"
      ]
     },
     "execution_count": 690,
     "metadata": {},
     "output_type": "execute_result"
    }
   ],
   "source": [
    "data['NumberOfTime30-59DaysPastDueNotWorse'].value_counts()"
   ]
  },
  {
   "cell_type": "code",
   "execution_count": 691,
   "id": "73ebca31",
   "metadata": {},
   "outputs": [],
   "source": [
    "#显然，98和96属于异常值，将这225个值全部过滤\n",
    "data = data[data.loc[:,'NumberOfTime30-59DaysPastDueNotWorse']<90]"
   ]
  },
  {
   "cell_type": "code",
   "execution_count": 692,
   "id": "76ed29d0",
   "metadata": {},
   "outputs": [
    {
     "data": {
      "text/plain": [
       "0     141817\n",
       "1       5731\n",
       "2       1118\n",
       "3        318\n",
       "4        105\n",
       "5         34\n",
       "6         16\n",
       "7          9\n",
       "8          2\n",
       "11         1\n",
       "9          1\n",
       "Name: NumberOfTime60-89DaysPastDueNotWorse, dtype: int64"
      ]
     },
     "execution_count": 692,
     "metadata": {},
     "output_type": "execute_result"
    }
   ],
   "source": [
    "data['NumberOfTime60-89DaysPastDueNotWorse'].value_counts()"
   ]
  },
  {
   "cell_type": "code",
   "execution_count": 693,
   "id": "18ff8c41",
   "metadata": {},
   "outputs": [
    {
     "data": {
      "text/plain": [
       "0     141094\n",
       "1       5232\n",
       "2       1555\n",
       "3        667\n",
       "4        291\n",
       "5        131\n",
       "6         80\n",
       "7         38\n",
       "8         21\n",
       "9         19\n",
       "10         8\n",
       "11         5\n",
       "13         4\n",
       "15         2\n",
       "14         2\n",
       "12         2\n",
       "17         1\n",
       "Name: NumberOfTimes90DaysLate, dtype: int64"
      ]
     },
     "execution_count": 693,
     "metadata": {},
     "output_type": "execute_result"
    }
   ],
   "source": [
    "data['NumberOfTimes90DaysLate'].value_counts()"
   ]
  },
  {
   "cell_type": "code",
   "execution_count": 694,
   "id": "84ab79d0",
   "metadata": {},
   "outputs": [
    {
     "name": "stdout",
     "output_type": "stream",
     "text": [
      "<class 'pandas.core.frame.DataFrame'>\n",
      "RangeIndex: 149152 entries, 0 to 149151\n",
      "Data columns (total 13 columns):\n",
      " #   Column                                Non-Null Count   Dtype  \n",
      "---  ------                                --------------   -----  \n",
      " 0   level_0                               149152 non-null  int64  \n",
      " 1   index                                 149152 non-null  int64  \n",
      " 2   SeriousDlqin2yrs                      149152 non-null  int64  \n",
      " 3   RevolvingUtilizationOfUnsecuredLines  149152 non-null  float64\n",
      " 4   age                                   149152 non-null  int64  \n",
      " 5   NumberOfTime30-59DaysPastDueNotWorse  149152 non-null  int64  \n",
      " 6   DebtRatio                             149152 non-null  float64\n",
      " 7   MonthlyIncome                         149152 non-null  float64\n",
      " 8   NumberOfOpenCreditLinesAndLoans       149152 non-null  int64  \n",
      " 9   NumberOfTimes90DaysLate               149152 non-null  int64  \n",
      " 10  NumberRealEstateLoansOrLines          149152 non-null  int64  \n",
      " 11  NumberOfTime60-89DaysPastDueNotWorse  149152 non-null  int64  \n",
      " 12  NumberOfDependents                    149152 non-null  float64\n",
      "dtypes: float64(4), int64(9)\n",
      "memory usage: 14.8 MB\n"
     ]
    }
   ],
   "source": [
    "#异常值不再存在，恢复索引\n",
    "data=data.reset_index()\n",
    "data.info()"
   ]
  },
  {
   "cell_type": "code",
   "execution_count": 695,
   "id": "6b9f1787",
   "metadata": {},
   "outputs": [
    {
     "data": {
      "text/html": [
       "<div>\n",
       "<style scoped>\n",
       "    .dataframe tbody tr th:only-of-type {\n",
       "        vertical-align: middle;\n",
       "    }\n",
       "\n",
       "    .dataframe tbody tr th {\n",
       "        vertical-align: top;\n",
       "    }\n",
       "\n",
       "    .dataframe thead th {\n",
       "        text-align: right;\n",
       "    }\n",
       "</style>\n",
       "<table border=\"1\" class=\"dataframe\">\n",
       "  <thead>\n",
       "    <tr style=\"text-align: right;\">\n",
       "      <th></th>\n",
       "      <th>NumberOfTime30-59DaysPastDueNotWorse</th>\n",
       "      <th>NumberOfTime60-89DaysPastDueNotWorse</th>\n",
       "      <th>NumberOfTimes90DaysLate</th>\n",
       "    </tr>\n",
       "  </thead>\n",
       "  <tbody>\n",
       "    <tr>\n",
       "      <th>count</th>\n",
       "      <td>149152.000000</td>\n",
       "      <td>149152.000000</td>\n",
       "      <td>149152.000000</td>\n",
       "    </tr>\n",
       "    <tr>\n",
       "      <th>mean</th>\n",
       "      <td>0.246728</td>\n",
       "      <td>0.065075</td>\n",
       "      <td>0.090733</td>\n",
       "    </tr>\n",
       "    <tr>\n",
       "      <th>std</th>\n",
       "      <td>0.698948</td>\n",
       "      <td>0.330688</td>\n",
       "      <td>0.486374</td>\n",
       "    </tr>\n",
       "    <tr>\n",
       "      <th>min</th>\n",
       "      <td>0.000000</td>\n",
       "      <td>0.000000</td>\n",
       "      <td>0.000000</td>\n",
       "    </tr>\n",
       "    <tr>\n",
       "      <th>25%</th>\n",
       "      <td>0.000000</td>\n",
       "      <td>0.000000</td>\n",
       "      <td>0.000000</td>\n",
       "    </tr>\n",
       "    <tr>\n",
       "      <th>50%</th>\n",
       "      <td>0.000000</td>\n",
       "      <td>0.000000</td>\n",
       "      <td>0.000000</td>\n",
       "    </tr>\n",
       "    <tr>\n",
       "      <th>75%</th>\n",
       "      <td>0.000000</td>\n",
       "      <td>0.000000</td>\n",
       "      <td>0.000000</td>\n",
       "    </tr>\n",
       "    <tr>\n",
       "      <th>max</th>\n",
       "      <td>13.000000</td>\n",
       "      <td>11.000000</td>\n",
       "      <td>17.000000</td>\n",
       "    </tr>\n",
       "  </tbody>\n",
       "</table>\n",
       "</div>"
      ],
      "text/plain": [
       "       NumberOfTime30-59DaysPastDueNotWorse  \\\n",
       "count                         149152.000000   \n",
       "mean                               0.246728   \n",
       "std                                0.698948   \n",
       "min                                0.000000   \n",
       "25%                                0.000000   \n",
       "50%                                0.000000   \n",
       "75%                                0.000000   \n",
       "max                               13.000000   \n",
       "\n",
       "       NumberOfTime60-89DaysPastDueNotWorse  NumberOfTimes90DaysLate  \n",
       "count                         149152.000000            149152.000000  \n",
       "mean                               0.065075                 0.090733  \n",
       "std                                0.330688                 0.486374  \n",
       "min                                0.000000                 0.000000  \n",
       "25%                                0.000000                 0.000000  \n",
       "50%                                0.000000                 0.000000  \n",
       "75%                                0.000000                 0.000000  \n",
       "max                               11.000000                17.000000  "
      ]
     },
     "execution_count": 695,
     "metadata": {},
     "output_type": "execute_result"
    }
   ],
   "source": [
    "data[['NumberOfTime30-59DaysPastDueNotWorse','NumberOfTime60-89DaysPastDueNotWorse','NumberOfTimes90DaysLate']].describe()"
   ]
  },
  {
   "cell_type": "markdown",
   "id": "4aa0a3b0",
   "metadata": {},
   "source": [
    "<p>小结：</p>\n",
    "\n",
    "<ul>\n",
    "\t<li>这三个指标用于衡量用户逾期分别为30-59、60-89、90天以上的次数</li>\n",
    "\t<li>逾期的次数通常不超过20次</li>\n",
    "\t<li>逾期次数越多，显然违约人数的比例会上升</li>\n",
    "</ul>\n"
   ]
  },
  {
   "cell_type": "code",
   "execution_count": 696,
   "id": "6011e3f6",
   "metadata": {},
   "outputs": [
    {
     "data": {
      "text/plain": [
       "count    149152.000000\n",
       "mean        354.959256\n",
       "std        2043.422532\n",
       "min           0.000000\n",
       "25%           0.178222\n",
       "50%           0.368618\n",
       "75%           0.876886\n",
       "max      329664.000000\n",
       "Name: DebtRatio, dtype: float64"
      ]
     },
     "execution_count": 696,
     "metadata": {},
     "output_type": "execute_result"
    }
   ],
   "source": [
    "#DebtRatio\n",
    "data['DebtRatio'].describe()"
   ]
  },
  {
   "cell_type": "code",
   "execution_count": 697,
   "id": "88a8ac94",
   "metadata": {
    "scrolled": true
   },
   "outputs": [
    {
     "data": {
      "text/plain": [
       "<AxesSubplot: xlabel='DebtRatio', ylabel='Density'>"
      ]
     },
     "execution_count": 697,
     "metadata": {},
     "output_type": "execute_result"
    },
    {
     "data": {
      "image/png": "[encoded data removed]",
      "text/plain": [
       "<Figure size 640x480 with 1 Axes>"
      ]
     },
     "metadata": {},
     "output_type": "display_data"
    }
   ],
   "source": [
    "sns.kdeplot(data[\"DebtRatio\"], color=colors[0])"
   ]
  },
  {
   "cell_type": "markdown",
   "id": "29829bdb",
   "metadata": {},
   "source": [
    "<p>小结：</p>\n",
    "\n",
    "<ul>\n",
    "\t<li>Dept Ratio，即每月债务支付、赡养费、生活费用之和除以每月总收入（负债率），根据经验判断，随着该值增加，违约人数比例也会上升</li>\n",
    "\t<li>该特征的分布是右偏的，和RevolvingUtilizationOfUnsecuredLines类似，最大值为329664，说明很多用户负债已经已经远远超过收入，甚至超过32w多倍</li>\n",
    "</ul>\n"
   ]
  },
  {
   "cell_type": "code",
   "execution_count": 698,
   "id": "a95fba4a",
   "metadata": {},
   "outputs": [
    {
     "data": {
      "text/plain": [
       "count    1.491520e+05\n",
       "mean     6.039509e+03\n",
       "std      1.298047e+04\n",
       "min      0.000000e+00\n",
       "25%      3.400000e+03\n",
       "50%      4.400000e+03\n",
       "75%      7.412000e+03\n",
       "max      3.008750e+06\n",
       "Name: MonthlyIncome, dtype: float64"
      ]
     },
     "execution_count": 698,
     "metadata": {},
     "output_type": "execute_result"
    }
   ],
   "source": [
    "#MonthlyIncome\n",
    "data['MonthlyIncome'].describe()"
   ]
  },
  {
   "cell_type": "code",
   "execution_count": 699,
   "id": "ab614a8c",
   "metadata": {},
   "outputs": [
    {
     "data": {
      "text/plain": [
       "<AxesSubplot: xlabel='MonthlyIncome', ylabel='Density'>"
      ]
     },
     "execution_count": 699,
     "metadata": {},
     "output_type": "execute_result"
    },
    {
     "data": {
      "image/png": "[encoded data removed]",
      "text/plain": [
       "<Figure size 640x480 with 1 Axes>"
      ]
     },
     "metadata": {},
     "output_type": "display_data"
    }
   ],
   "source": [
    "sns.kdeplot(data[data['MonthlyIncome']<50000]['MonthlyIncome'], color=colors[0])"
   ]
  },
  {
   "cell_type": "markdown",
   "id": "48ca9bf5",
   "metadata": {},
   "source": [
    "<p>小结：</p>\n",
    "\n",
    "<ul>\n",
    "\t<li>MonthlyIncome，即每月收入，平均值为6040，根据经验，收入越高，违约人群的比例应越低</li>\n",
    "\t<li>该特征基本符合正态分布，同时收入的分布体现了二八定律：80%的财富集中在20%的手中</li>\n",
    "</ul>\n"
   ]
  },
  {
   "cell_type": "code",
   "execution_count": 700,
   "id": "a7edab07",
   "metadata": {},
   "outputs": [
    {
     "data": {
      "text/html": [
       "<div>\n",
       "<style scoped>\n",
       "    .dataframe tbody tr th:only-of-type {\n",
       "        vertical-align: middle;\n",
       "    }\n",
       "\n",
       "    .dataframe tbody tr th {\n",
       "        vertical-align: top;\n",
       "    }\n",
       "\n",
       "    .dataframe thead th {\n",
       "        text-align: right;\n",
       "    }\n",
       "</style>\n",
       "<table border=\"1\" class=\"dataframe\">\n",
       "  <thead>\n",
       "    <tr style=\"text-align: right;\">\n",
       "      <th></th>\n",
       "      <th>NumberOfOpenCreditLinesAndLoans</th>\n",
       "      <th>NumberRealEstateLoansOrLines</th>\n",
       "    </tr>\n",
       "  </thead>\n",
       "  <tbody>\n",
       "    <tr>\n",
       "      <th>count</th>\n",
       "      <td>149152.000000</td>\n",
       "      <td>149152.000000</td>\n",
       "    </tr>\n",
       "    <tr>\n",
       "      <th>mean</th>\n",
       "      <td>8.493839</td>\n",
       "      <td>1.023989</td>\n",
       "    </tr>\n",
       "    <tr>\n",
       "      <th>std</th>\n",
       "      <td>5.129888</td>\n",
       "      <td>1.130366</td>\n",
       "    </tr>\n",
       "    <tr>\n",
       "      <th>min</th>\n",
       "      <td>0.000000</td>\n",
       "      <td>0.000000</td>\n",
       "    </tr>\n",
       "    <tr>\n",
       "      <th>25%</th>\n",
       "      <td>5.000000</td>\n",
       "      <td>0.000000</td>\n",
       "    </tr>\n",
       "    <tr>\n",
       "      <th>50%</th>\n",
       "      <td>8.000000</td>\n",
       "      <td>1.000000</td>\n",
       "    </tr>\n",
       "    <tr>\n",
       "      <th>75%</th>\n",
       "      <td>11.000000</td>\n",
       "      <td>2.000000</td>\n",
       "    </tr>\n",
       "    <tr>\n",
       "      <th>max</th>\n",
       "      <td>58.000000</td>\n",
       "      <td>54.000000</td>\n",
       "    </tr>\n",
       "  </tbody>\n",
       "</table>\n",
       "</div>"
      ],
      "text/plain": [
       "       NumberOfOpenCreditLinesAndLoans  NumberRealEstateLoansOrLines\n",
       "count                    149152.000000                 149152.000000\n",
       "mean                          8.493839                      1.023989\n",
       "std                           5.129888                      1.130366\n",
       "min                           0.000000                      0.000000\n",
       "25%                           5.000000                      0.000000\n",
       "50%                           8.000000                      1.000000\n",
       "75%                          11.000000                      2.000000\n",
       "max                          58.000000                     54.000000"
      ]
     },
     "execution_count": 700,
     "metadata": {},
     "output_type": "execute_result"
    }
   ],
   "source": [
    "#贷款数量指标，包括：\n",
    "#NumberOfOpenCreditLinesAndLoans\n",
    "#NumberRealEstateLoansOrLines\n",
    "data[['NumberOfOpenCreditLinesAndLoans','NumberRealEstateLoansOrLines']].describe()\n"
   ]
  },
  {
   "cell_type": "code",
   "execution_count": 701,
   "id": "6e51771a",
   "metadata": {},
   "outputs": [
    {
     "data": {
      "text/plain": [
       "<AxesSubplot: xlabel='NumberOfOpenCreditLinesAndLoans', ylabel='count'>"
      ]
     },
     "execution_count": 701,
     "metadata": {},
     "output_type": "execute_result"
    },
    {
     "data": {
      "image/png": "[encoded data removed]",
      "text/plain": [
       "<Figure size 640x480 with 1 Axes>"
      ]
     },
     "metadata": {},
     "output_type": "display_data"
    }
   ],
   "source": [
    "sns.countplot(x=\"NumberOfOpenCreditLinesAndLoans\",data=data, color=colors[0])"
   ]
  },
  {
   "cell_type": "code",
   "execution_count": 702,
   "id": "7c420314",
   "metadata": {},
   "outputs": [
    {
     "data": {
      "text/plain": [
       "<AxesSubplot: xlabel='NumberRealEstateLoansOrLines', ylabel='count'>"
      ]
     },
     "execution_count": 702,
     "metadata": {},
     "output_type": "execute_result"
    },
    {
     "data": {
      "image/png": "[encoded data removed]",
      "text/plain": [
       "<Figure size 640x480 with 1 Axes>"
      ]
     },
     "metadata": {},
     "output_type": "display_data"
    }
   ],
   "source": [
    "sns.countplot(x=\"NumberRealEstateLoansOrLines\",data=data, color=colors[1])"
   ]
  },
  {
   "cell_type": "markdown",
   "id": "63e17edf",
   "metadata": {},
   "source": [
    "<p>小结：</p>\n",
    "\n",
    "<ul>\n",
    "\t<li>NumberOfOpenCreditLinesAndLoans和NumberRealEstateLoansOrLines衡量的是未结贷款数量，通常数量越多，违约人群的比例越大</li>\n",
    "\t<li>NumberOfOpenCreditLinesAndLoans的数目平均要大于NumberRealEstateLoansOrLines，这可能与贷款规模有关，小额贷款的持有比例更多</li>\n",
    "\t<li>NumberOfOpenCreditLinesAndLoans基本呈正态分布，可以看出目前小额贷款或信用卡消费越来越普及</li>\n",
    "\t<li>NumberRealEstateLoansOrLines分布不太均匀，房贷持有比例还是较低的</li>\n",
    "</ul>"
   ]
  },
  {
   "cell_type": "code",
   "execution_count": 703,
   "id": "4bd08288",
   "metadata": {},
   "outputs": [
    {
     "data": {
      "text/plain": [
       "count    149152.000000\n",
       "mean          0.740969\n",
       "std           1.108563\n",
       "min           0.000000\n",
       "25%           0.000000\n",
       "50%           0.000000\n",
       "75%           1.000000\n",
       "max          20.000000\n",
       "Name: NumberOfDependents, dtype: float64"
      ]
     },
     "execution_count": 703,
     "metadata": {},
     "output_type": "execute_result"
    }
   ],
   "source": [
    "#NumberOfDependents\n",
    "data['NumberOfDependents'].describe()"
   ]
  },
  {
   "cell_type": "code",
   "execution_count": 704,
   "id": "57f038c3",
   "metadata": {},
   "outputs": [
    {
     "data": {
      "text/plain": [
       "<AxesSubplot: xlabel='NumberOfDependents', ylabel='count'>"
      ]
     },
     "execution_count": 704,
     "metadata": {},
     "output_type": "execute_result"
    },
    {
     "data": {
      "image/png": "[encoded data removed]",
      "text/plain": [
       "<Figure size 640x480 with 1 Axes>"
      ]
     },
     "metadata": {},
     "output_type": "display_data"
    }
   ],
   "source": [
    "sns.countplot(x=\"NumberOfDependents\",data=data, color=colors[0])"
   ]
  },
  {
   "cell_type": "code",
   "execution_count": 705,
   "id": "af763b79",
   "metadata": {},
   "outputs": [
    {
     "data": {
      "text/plain": [
       "0.0     90033\n",
       "1.0     26290\n",
       "2.0     19500\n",
       "3.0      9479\n",
       "4.0      2860\n",
       "5.0       745\n",
       "6.0       158\n",
       "7.0        51\n",
       "8.0        24\n",
       "10.0        5\n",
       "9.0         5\n",
       "20.0        1\n",
       "13.0        1\n",
       "Name: NumberOfDependents, dtype: int64"
      ]
     },
     "execution_count": 705,
     "metadata": {},
     "output_type": "execute_result"
    }
   ],
   "source": [
    "data['NumberOfDependents'].value_counts()"
   ]
  },
  {
   "cell_type": "markdown",
   "id": "4061029e",
   "metadata": {},
   "source": [
    "<p>小结：</p>\n",
    "\n",
    "<ul>\n",
    "\t<li>NumberOfDependents，即家庭人数，根据常识推断，家庭人数越多，违约比例越低</li>\n",
    "\t<li>家庭人数也是呈右偏分布的，最大家庭人数有20人，然而占据最大群体的是独身人群</li>\n",
    "</ul>"
   ]
  },
  {
   "cell_type": "markdown",
   "id": "b6a8f803",
   "metadata": {},
   "source": [
    "<p><span style=\"font-size:20px\">六、特征工程</span></p>\n",
    "\n",
    "在这一部分，将会对样本数据进行分箱，并通过IV值选取典型特征，再结合badrate法查看并调整分箱。"
   ]
  },
  {
   "cell_type": "markdown",
   "id": "3691e908",
   "metadata": {},
   "source": [
    "<p><span style=\"font-size:18px\">（一）数据分箱</span></p>\n",
    "\n",
    "评分卡最重要的步骤就是数据分箱。分箱的本质就是将连续特征离散化，好让拥有不同属性的用户被分成不同的类别，并且可以避免连续型特征的取值过于稀疏而影响模型学习效果。\n",
    "\n",
    "分箱最传统的方法是badrate分析法，它的原理是先对x进行分组，然后分析每组x的badrate（违约人群的比例）是否有固定趋势来确定y是否与x相关，并通过调整分组逻辑，使x分组后与y的关系更加稳定。通常分箱后，badrate应随着箱的取值大小而单调变化。badrate的分组逻辑必须具有强业务性，因此通常训练后的模型更贴近业务，但是需要大量的人力和时间。\n",
    "\n",
    "另一种方法就是自动分箱，又分为无监督分箱和有监督分箱。无监督分箱中最常用的是等频分箱和等距分箱，分别是令每箱的样本数相等和每箱的宽度相等。有监督分箱常用的有卡方分箱、决策树分箱、Best-KS分箱。\n",
    "\n",
    "分箱的数目，不宜太多，最好不超过10个，也不宜太少，4～5个最佳，因为箱子越少，损失的信息越多，银行业通过IV来衡量特征的信息量以及特征对预测函数的贡献，详情将在下一节介绍\n",
    "\n",
    "在实际运用中，常常将传统和自动的方法相结合。例如通过自动分箱和IV值筛选特征，并查看所有特征的badrate，筛选掉完全经不住业务考验的特征。\n",
    "\n",
    "本文将基于决策树算法对数据分箱，具体步骤如下：\n",
    "\n",
    "<ol>\n",
    "\t<li>利用sklearn决策树，DecisionTreeClassifier的.tree_属性获得决策树的节点划分值</li>\n",
    "\t<li>基于上述得到的划分值，利用pandas.cut函数对特征进行分箱</li>\n",
    "\t<li>计算各个分箱的WOE、IV值以及badrate趋势</li>\n",
    "</ol>"
   ]
  },
  {
   "cell_type": "code",
   "execution_count": 706,
   "id": "f7e88304",
   "metadata": {},
   "outputs": [],
   "source": [
    "#函数定义\n",
    "from sklearn.tree import DecisionTreeClassifier\n",
    "def optimal_binning_boundary(x: pd.Series, y: pd.Series, nan: float = -999.) -> list:\n",
    "    '''\n",
    "        利用决策树获得最优分箱的边界值列表\n",
    "    '''\n",
    "    boundary = []  # 待return的分箱边界值列表\n",
    "    \n",
    "    x = x.values  \n",
    "    y = y.values\n",
    "    \n",
    "    clf = DecisionTreeClassifier(criterion='entropy',    #“信息熵”最小化准则划分\n",
    "                                 max_leaf_nodes=6,       # 最大叶子节点数\n",
    "                                 min_samples_leaf=0.05)  # 叶子节点样本数量最小占比\n",
    "\n",
    "    clf.fit(x.reshape(-1, 1), y)  # 训练决策树\n",
    "    \n",
    "    n_nodes = clf.tree_.node_count\n",
    "    children_left = clf.tree_.children_left\n",
    "    children_right = clf.tree_.children_right\n",
    "    threshold = clf.tree_.threshold\n",
    "    \n",
    "    for i in range(n_nodes):\n",
    "        if children_left[i] != children_right[i]:  # 获得决策树节点上的划分边界值\n",
    "            boundary.append(threshold[i])\n",
    "\n",
    "    boundary.sort()\n",
    "\n",
    "    min_x = x.min()\n",
    "    max_x = x.max() + 0.1  # +0.1是为了考虑后续groupby操作时，能包含特征最大值的样本\n",
    "    boundary = [min_x] + boundary + [max_x]\n",
    "\n",
    "    return boundary"
   ]
  },
  {
   "cell_type": "code",
   "execution_count": 707,
   "id": "5fb2d340",
   "metadata": {},
   "outputs": [
    {
     "name": "stdout",
     "output_type": "stream",
     "text": [
      "{'RevolvingUtilizationOfUnsecuredLines': [0.0, 0.11458224803209305, 0.21776090562343597, 0.49497613310813904, 0.6981423199176788, 0.8596274554729462, 50708.1], 'age': [21, 35.5, 42.5, 53.5, 56.5, 63.5, 99.1], 'NumberOfTime30-59DaysPastDueNotWorse': [0, 0.5, 1.5, 13.1], 'DebtRatio': [0.0, 0.01921968162059784, 0.1367916464805603, 0.42332078516483307, 0.6536748111248016, 3.9728435277938843, 329664.1], 'MonthlyIncome': [0.0, 1508.5, 3332.5, 3404.5, 4833.5, 6643.5, 3008750.1], 'NumberOfOpenCreditLinesAndLoans': [0, 2.5, 3.5, 5.5, 8.5, 13.5, 58.1], 'NumberOfTimes90DaysLate': [0, 0.5, 17.1], 'NumberRealEstateLoansOrLines': [0, 0.5, 1.5, 2.5, 54.1], 'NumberOfTime60-89DaysPastDueNotWorse': [0, 11.1], 'NumberOfDependents': [0.0, 0.5, 1.5, 2.5, 20.1]}\n"
     ]
    }
   ],
   "source": [
    "#1. 利用sklearn决策树，DecisionTreeClassifier的.tree_属性获得决策树的节点划分值\n",
    "col=list(data.columns)\n",
    "col=col[3::]\n",
    "boundarys={}\n",
    "for i in col:\n",
    "    boundary=optimal_binning_boundary(x=data[i],y=data['SeriousDlqin2yrs'])\n",
    "    boundarys[i]=boundary\n",
    "print(boundarys)\n"
   ]
  },
  {
   "cell_type": "markdown",
   "id": "b91b8761",
   "metadata": {},
   "source": [
    "由于NumberOfTime30-59DaysPastDueNotWorse（3个）、NumberOfTime60-89DaysPastDueNotWorse（1个）、NumberOfTimes90DaysLate（2个）的箱数太少，因此通过观察特征badrate趋势进行手动分箱"
   ]
  },
  {
   "cell_type": "code",
   "execution_count": 708,
   "id": "8dda8b9b",
   "metadata": {},
   "outputs": [],
   "source": [
    "def badrate(x: pd.Series, y: pd.Series, b: list, nan: float = -999.) -> pd.DataFrame:\n",
    "    '''\n",
    "        计算手动分箱的badrate，返回一个DataFrame\n",
    "    '''\n",
    "    boundary = b        # 获得手动分箱边界值\n",
    "    df = pd.concat([x, y], axis=1)                        # 合并x、y为一个DataFrame，方便后续计算\n",
    "    df.columns = ['x', 'y']                               # 特征变量、目标变量字段的重命名\n",
    "    df['bins'] = pd.cut(x=x, bins=boundary, right=False)  # 获得每个x值所在的分箱区间\n",
    "    \n",
    "    grouped = df.groupby('bins')['y']                     # 统计各分箱区间的好、坏、总客户数量\n",
    "    result_df = grouped.agg([('good',  lambda y: (y == 0).sum()), \n",
    "                             ('bad',   lambda y: (y == 1).sum()),\n",
    "                             ('total', 'count')])\n",
    "    result_df['bad_rate'] = result_df['bad'] / result_df['total']             # 坏比率\n",
    "    \n",
    "#     result_df['binning']=grouped.size().index\n",
    "#     print(grouped.size().index)\n",
    "    \n",
    "    print(result_df)"
   ]
  },
  {
   "cell_type": "code",
   "execution_count": 709,
   "id": "c9e76c56",
   "metadata": {},
   "outputs": [
    {
     "name": "stdout",
     "output_type": "stream",
     "text": [
      "           good   bad   total  bad_rate\n",
      "bins                                   \n",
      "[0, 1)   120406  5035  125441  0.040138\n",
      "[1, 2)    13623  2409   16032  0.150262\n",
      "[2, 6)     5132  2308    7440  0.310215\n",
      "[6, 13)     119   119     238  0.500000\n"
     ]
    }
   ],
   "source": [
    "#首先粗略分箱，试探变量的badrate趋势\n",
    "#NumberOfTime30-59DaysPastDueNotWorse\n",
    "bound1=[0,1,2,6,13]\n",
    "badrate(x=data['NumberOfTime30-59DaysPastDueNotWorse'], \n",
    "               y=data['SeriousDlqin2yrs'],b=bound1)"
   ]
  },
  {
   "cell_type": "code",
   "execution_count": 710,
   "id": "3ee3eb56",
   "metadata": {},
   "outputs": [
    {
     "name": "stdout",
     "output_type": "stream",
     "text": [
      "           good   bad   total  bad_rate\n",
      "bins                                   \n",
      "[0, 1)   134568  7249  141817  0.051115\n",
      "[1, 2)     3954  1777    5731  0.310068\n",
      "[2, 6)      748   827    1575  0.525079\n",
      "[6, 11)      10    18      28  0.642857\n"
     ]
    }
   ],
   "source": [
    "#NumberOfTime60-89DaysPastDueNotWorse\n",
    "bound2=[0,1,2,6,11]\n",
    "badrate(x=data['NumberOfTime60-89DaysPastDueNotWorse'], \n",
    "               y=data['SeriousDlqin2yrs'],b=bound2)"
   ]
  },
  {
   "cell_type": "code",
   "execution_count": 711,
   "id": "f56cfdff",
   "metadata": {},
   "outputs": [
    {
     "name": "stdout",
     "output_type": "stream",
     "text": [
      "           good   bad   total  bad_rate\n",
      "bins                                   \n",
      "[0, 1)   134546  6548  141094  0.046409\n",
      "[1, 2)     3468  1764    5232  0.337156\n",
      "[2, 4)     1061  1161    2222  0.522502\n",
      "[4, 17)     205   398     603  0.660033\n"
     ]
    }
   ],
   "source": [
    "#NumberOfTimes90DaysLate\n",
    "bound3=[0,1,2,4,17]\n",
    "badrate(x=data['NumberOfTimes90DaysLate'], \n",
    "               y=data['SeriousDlqin2yrs'],b=bound3)"
   ]
  },
  {
   "cell_type": "code",
   "execution_count": 712,
   "id": "a0436a75",
   "metadata": {},
   "outputs": [],
   "source": [
    "#将自动分箱结果替换为手动分箱结果\n",
    "boundarys['NumberOfTime30-59DaysPastDueNotWorse']=bound1\n",
    "boundarys['NumberOfTime60-89DaysPastDueNotWorse']=bound2\n",
    "boundarys['NumberOfTimes90DaysLate']=bound3"
   ]
  },
  {
   "cell_type": "markdown",
   "id": "582e7f5f",
   "metadata": {},
   "source": [
    "<p><span style=\"font-size:18px\">（二）特征选取</span></p>\n",
    "\n",
    "将特征分箱的边界确认后，就可以计算IV值以筛选特征。在了解IV值之前，首先了解WOE的含义。\n",
    "\n",
    "WOE的全称是Weight of Evidence，即证据权重，它是银行业用来衡量违约概率的指标，通常要在特征分箱处理后才能进行WOE编码，对于特征X第i箱的WOE值，其公式如下：\n",
    "\n",
    "$$WOE_{i}=ln\\frac{Bad_{X=X_i}/Bad_{total}}{Good_{X=X_i}/Good_{total}}=ln\\frac{Bad_{X=X_i}/Good_{X=X_i}}{Bad_{total}/Good_{total}}$$\n",
    "\n",
    "其中$Bad_{total}$代表坏样本总数（即违约样本），$Good_{total}$代表好样本总数，$Bad_{X=X_i}$代表第i箱的坏样本总数，$Good_{X=X_i}$代表第i箱的好样本总数。按照特征WOE映射表，就可以把特征的组别映射成对应的WOE值。\n",
    "\n",
    "可以发现，WOE表示的实际上是“当前分箱中坏客户和好客户比值”和“所有样本中坏客户和好客户比值”的差异，显然，WOE越大，这种差异越大，坏客户的可能性越大，该分箱内的样本违约的可能性越大。\n",
    "\n",
    "有了WOE的基本概念，接下来进一步了解IV。IV的全称是Information Value，即信息价值。通常在用逻辑回归模型时，需要对自变量进行筛选，即挑选出“入模特征”，需要考虑的一个最主要因素就是“特征的预测能力”。IV就是这样一种指标，类似的指标还有信息增益、基尼系数等。和WOE一样，每个分箱i会有一个对应的IV值，其公式如下：\n",
    "\n",
    "$$IV_i=(\\frac{Bad_{X=X_i}}{Bad_{total}}-\\frac{Good_{X=X_i}}{Good_{total}})*ln\\frac{Bad_{X=X_i}/Bad_{total}}{Good_{X=X_i}/Good_{total}}=(\\frac{Bad_{X=X_i}}{Bad_{total}}-\\frac{Good_{X=X_i}}{Good_{total}})*WOE_i$$\n",
    "\n",
    "将特征各分箱的IV值相加，就可以计算整个特征的IV值：\n",
    "\n",
    "$$IV=\\sum_{i}^nIV_i$$\n",
    "\n",
    "信息论中，评估两个分布的距离（差异）可以用KL散度，又称为相对熵，对于分布P(x)和分布Q(x)，其Q对P的散度为：\n",
    "\n",
    "$$D_{KL}(P||Q)=\\sum_{x\\in{X}}P(x)*ln\\frac{P(x)}{Q(x)}$$\n",
    "\n",
    "事实上，IV的意义就是违约用户（坏客户）与未违约客户（好客户）的距离/散度，令$G=\\frac{Good_{X=X_i}}{Good_{total}}$代表每个分箱好客户的分布，$B=\\frac{Bad_{X=X_i}}{Bad_{total}}$ 代表每个分箱坏客户的分布，则好客户相对坏客户的KL散度为：\n",
    "\n",
    "$$D_{KL}(B||G)=\\sum_{i}\\frac{Bad_{X=X_i}}{Bad_{total}}*ln\\frac{Bad_{X=X_i}/Bad_{total}}{Good_{X=X_i}/Good_{total}}$$\n",
    "\n",
    "坏客户相对好客户的KL散度为：\n",
    "\n",
    "$$D_{KL}(G||B)=\\sum_{i}\\frac{Good_{X=X_i}}{Good_{total}}*ln\\frac{Good_{X=X_i}/Good_{total}}{Bad_{X=X_i}/Bad_{total}}$$\n",
    "\n",
    "二者之和即信息量IV：\n",
    "\n",
    "$$IV=D_{KL}(B||G)+D_{KL}(G||B)\\\\\n",
    "=\\sum_{i}\\frac{Bad_{X=X_i}}{Bad_{total}}*ln\\frac{Bad_{X=X_i}/Bad_{total}}{Good_{X=X_i}/Good_{total}}+\\sum_{i}\\frac{Good_{X=X_i}}{Good_{total}}*ln\\frac{Good_{X=X_i}/Good_{total}}{Bad_{X=X_i}/Bad_{total}}\\\\\n",
    "=\\sum_{i}\\frac{Bad_{X=X_i}}{Bad_{total}}*ln\\frac{Bad_{X=X_i}/Bad_{total}}{Good_{X=X_i}/Good_{total}}+\\sum_{i}\\frac{Good_{X=X_i}}{Good_{total}}*ln(\\frac{Bad_{X=X_i}/Bad_{total}}{Good_{X=X_i}/Good_{total}})^{-1}\\\\\n",
    "=\\sum_{i}\\frac{Bad_{X=X_i}}{Bad_{total}}*ln\\frac{Bad_{X=X_i}/Bad_{total}}{Good_{X=X_i}/Good_{total}}-\\sum_{i}\\frac{Good_{X=X_i}}{Good_{total}}*ln\\frac{Bad_{X=X_i}/Bad_{total}}{Good_{X=X_i}/Good_{total}}\\\\\n",
    "=\\sum_{i}(\\frac{Bad_{X=X_i}}{Bad_{total}}-\\frac{Good_{X=X_i}}{Good_{total}})*ln\\frac{Bad_{X=X_i}/Bad_{total}}{Good_{X=X_i}/Good_{total}}\n",
    "$$\n",
    "\n",
    "IV值越高，说明分布的区分度越高，也就是特征X对区分目标y的作用越大，即特征的价值越高。通常：\n",
    "\n",
    "<ul>\n",
    "\t<li>IV&lt;0.02：几乎没有区分度</li>\n",
    "\t<li>0.02&lt;=IV&lt;0.1：有微弱的区分度</li>\n",
    "\t<li>0.1&lt;=IV&lt;0.3：有明显的区分度</li>\n",
    "\t<li>IV&gt;=0.3：较强区分度</li>\n",
    "</ul>\n",
    "\n",
    "\n",
    "\n"
   ]
  },
  {
   "cell_type": "code",
   "execution_count": 713,
   "id": "415d36c3",
   "metadata": {},
   "outputs": [],
   "source": [
    "def feature_woe_iv(x: pd.Series, y: pd.Series, b: list, nan: float = -999.) -> pd.DataFrame:\n",
    "    '''\n",
    "        计算变量各个分箱的WOE、IV值，返回一个DataFrame\n",
    "    '''\n",
    "    boundary = b        # 获得最优分箱边界值列表\n",
    "    df = pd.concat([x, y], axis=1)                        # 合并x、y为一个DataFrame，方便后续计算\n",
    "    df.columns = ['x', 'y']                               # 特征变量、目标变量字段的重命名\n",
    "    df['bins'] = pd.cut(x=x, bins=boundary, right=False)  # 获得每个x值所在的分箱区间\n",
    "    \n",
    "    grouped = df.groupby('bins')['y']                     # 统计各分箱区间的好、坏、总客户数量\n",
    "    result_df = grouped.agg([('good',  lambda y: (y == 0).sum()), \n",
    "                             ('bad',   lambda y: (y == 1).sum()),\n",
    "                             ('total', 'count')])\n",
    "\n",
    "    result_df['good_pct'] = result_df['good'] / result_df['good'].sum()       # 好客户占比\n",
    "    result_df['bad_pct'] = result_df['bad'] / result_df['bad'].sum()          # 坏客户占比\n",
    "    result_df['total_pct'] = result_df['total'] / result_df['total'].sum()    # 总客户占比\n",
    "\n",
    "    result_df['bad_rate'] = result_df['bad'] / result_df['total']             # 坏比率\n",
    "    \n",
    "    result_df['woe'] = np.log(result_df['bad_pct'] / result_df['good_pct'])              # WOE\n",
    "    result_df['iv'] = (result_df['bad_pct'] - result_df['good_pct']) * result_df['woe']  # IV\n",
    "    \n",
    "#     print(f\"该变量IV = {result_df['iv'].sum()}\")\n",
    "\n",
    "#     result_df['binning']=grouped.size().index\n",
    "    \n",
    "    return result_df\n",
    "    \n",
    "    "
   ]
  },
  {
   "cell_type": "code",
   "execution_count": 714,
   "id": "2ae5e22e",
   "metadata": {},
   "outputs": [
    {
     "name": "stdout",
     "output_type": "stream",
     "text": [
      "特征RevolvingUtilizationOfUnsecuredLines的IV值： 1.0884782051759674\n",
      "特征age的IV值： 0.2505683153279774\n",
      "特征NumberOfTime30-59DaysPastDueNotWorse的IV值： 0.7142893806128543\n",
      "特征DebtRatio的IV值： 0.08398679785469663\n",
      "特征MonthlyIncome的IV值： 0.07376493355765562\n",
      "特征NumberOfOpenCreditLinesAndLoans的IV值： 0.07236843111579375\n",
      "特征NumberOfTimes90DaysLate的IV值： 0.8465545116487636\n",
      "特征NumberRealEstateLoansOrLines的IV值： 0.05154181260906397\n",
      "特征NumberOfTime60-89DaysPastDueNotWorse的IV值： 0.5647478642337458\n",
      "特征NumberOfDependents的IV值： 0.03557453906412368\n"
     ]
    }
   ],
   "source": [
    "#2. 基于上述得到的划分值，利用pandas.cut函数对特征进行分箱\n",
    "#3. 计算各个分箱的WOE、IV值以及badrate趋势\n",
    "col=list(data.columns)\n",
    "col=col[3::]\n",
    "woe_iv_tables={}\n",
    "for i in col:\n",
    "    woe_iv_table=feature_woe_iv(x=data[i],y=data['SeriousDlqin2yrs'],b=boundarys[i])\n",
    "    print(\"特征\"+i+\"的IV值：\",woe_iv_table['iv'].sum())\n",
    "    woe_iv_tables[i]=woe_iv_table"
   ]
  },
  {
   "cell_type": "markdown",
   "id": "ff963a4c",
   "metadata": {},
   "source": [
    "在此针对IV>0.1的特征进一步分析，包括RevolvingUtilizationOfUnsecuredLines、age、NumberOfTime30-59DaysPastDueNotWorse、NumberOfTimes90DaysLate、NumberOfTime60-89DaysPastDueNotWorse"
   ]
  },
  {
   "cell_type": "code",
   "execution_count": 715,
   "id": "d1e77a7f",
   "metadata": {},
   "outputs": [
    {
     "name": "stdout",
     "output_type": "stream",
     "text": [
      "RevolvingUtilizationOfUnsecuredLines                   good   bad  total  good_pct   bad_pct  total_pct  bad_rate  \\\n",
      "bins                                                                           \n",
      "[0.0, 0.115)     66147  1225  67372  0.474921  0.124088   0.451700  0.018183   \n",
      "[0.115, 0.218)   15776   486  16262  0.113268  0.049230   0.109030  0.029886   \n",
      "[0.218, 0.495)   23161  1245  24406  0.166291  0.126114   0.163632  0.051012   \n",
      "[0.495, 0.698)   10499  1100  11599  0.075381  0.111426   0.077766  0.094836   \n",
      "[0.698, 0.86)     6716  1097   7813  0.048219  0.111122   0.052383  0.140407   \n",
      "[0.86, 50708.1)  16981  4719  21700  0.121920  0.478019   0.145489  0.217465   \n",
      "\n",
      "                      woe        iv  \n",
      "bins                                 \n",
      "[0.0, 0.115)    -1.342155  0.470872  \n",
      "[0.115, 0.218)  -0.833253  0.053360  \n",
      "[0.218, 0.495)  -0.276550  0.011111  \n",
      "[0.495, 0.698)   0.390814  0.014087  \n",
      "[0.698, 0.86)    0.834870  0.052516  \n",
      "[0.86, 50708.1)  1.366286  0.486533  \n",
      "age                good   bad  total  good_pct   bad_pct  total_pct  bad_rate  \\\n",
      "bins                                                                        \n",
      "[21.0, 35.5)  18812  2305  21117  0.135066  0.233489   0.141580  0.109154   \n",
      "[35.5, 42.5)  17949  1810  19759  0.128870  0.183347   0.132476  0.091604   \n",
      "[42.5, 53.5)  36526  3102  39628  0.262249  0.314222   0.265689  0.078278   \n",
      "[53.5, 56.5)   9879   661  10540  0.070929  0.066957   0.070666  0.062713   \n",
      "[56.5, 63.5)  22955  1124  24079  0.164812  0.113857   0.161439  0.046680   \n",
      "[63.5, 99.1)  33159   870  34029  0.238074  0.088128   0.228150  0.025566   \n",
      "\n",
      "                   woe        iv  \n",
      "bins                              \n",
      "[21.0, 35.5)  0.547370  0.053874  \n",
      "[35.5, 42.5)  0.352576  0.019207  \n",
      "[42.5, 53.5)  0.180807  0.009397  \n",
      "[53.5, 56.5) -0.057629  0.000229  \n",
      "[56.5, 63.5) -0.369858  0.018846  \n",
      "[63.5, 99.1) -0.993792  0.149016  \n",
      "NumberOfTime30-59DaysPastDueNotWorse            good   bad   total  good_pct   bad_pct  total_pct  bad_rate  \\\n",
      "bins                                                                     \n",
      "[0, 1)   120406  5035  125441  0.864489  0.510080   0.841034  0.040138   \n",
      "[1, 2)    13623  2409   16032  0.097810  0.244048   0.107488  0.150262   \n",
      "[2, 6)     5132  2308    7440  0.036847  0.233816   0.049882  0.310215   \n",
      "[6, 13)     119   119     238  0.000854  0.012056   0.001596  0.500000   \n",
      "\n",
      "              woe        iv  \n",
      "bins                         \n",
      "[0, 1)  -0.527571  0.186976  \n",
      "[1, 2)   0.914337  0.133711  \n",
      "[2, 6)   1.847771  0.363955  \n",
      "[6, 13)  2.646885  0.029648  \n",
      "NumberOfTimes90DaysLate            good   bad   total  good_pct   bad_pct  total_pct  bad_rate  \\\n",
      "bins                                                                     \n",
      "[0, 1)   134546  6548  141094  0.966011  0.663357   0.945981  0.046409   \n",
      "[1, 2)     3468  1764    5232  0.024899  0.178705   0.035079  0.337156   \n",
      "[2, 4)     1061  1161    2222  0.007618  0.117617   0.014898  0.522502   \n",
      "[4, 17)     205   398     603  0.001472  0.040320   0.004043  0.660033   \n",
      "\n",
      "              woe        iv  \n",
      "bins                         \n",
      "[0, 1)  -0.375861  0.113756  \n",
      "[1, 2)   1.970891  0.303135  \n",
      "[2, 4)   2.736955  0.301064  \n",
      "[4, 17)  3.310327  0.128600  \n",
      "NumberOfTime60-89DaysPastDueNotWorse            good   bad   total  good_pct   bad_pct  total_pct  bad_rate  \\\n",
      "bins                                                                     \n",
      "[0, 1)   134568  7249  141817  0.966169  0.734373   0.950828  0.051115   \n",
      "[1, 2)     3954  1777    5731  0.028389  0.180022   0.038424  0.310068   \n",
      "[2, 6)      748   827    1575  0.005370  0.083781   0.010560  0.525079   \n",
      "[6, 11)      10    18      28  0.000072  0.001824   0.000188  0.642857   \n",
      "\n",
      "              woe        iv  \n",
      "bins                         \n",
      "[0, 1)  -0.274321  0.063586  \n",
      "[1, 2)   1.847084  0.280080  \n",
      "[2, 6)   2.747287  0.215416  \n",
      "[6, 11)  3.234672  0.005666  \n"
     ]
    }
   ],
   "source": [
    "#查看典型特征的分箱WOE值、IV值以及badrate趋势\n",
    "useful=['RevolvingUtilizationOfUnsecuredLines','age','NumberOfTime30-59DaysPastDueNotWorse','NumberOfTimes90DaysLate','NumberOfTime60-89DaysPastDueNotWorse']\n",
    "for k,v in woe_iv_tables.items():\n",
    "    if k in useful:\n",
    "        print(k,v)"
   ]
  },
  {
   "cell_type": "markdown",
   "id": "613a0912",
   "metadata": {},
   "source": [
    "所有典型特征的WOE和badrate都具有单调性，因此分箱是有意义的。接下来将分箱逻辑输出到excel表格。"
   ]
  },
  {
   "cell_type": "code",
   "execution_count": 716,
   "id": "ecddd0b8",
   "metadata": {},
   "outputs": [],
   "source": [
    "#保存分箱逻辑\n",
    "with pd.ExcelWriter('binning.xlsx') as writer:\n",
    "    for k,v in woe_iv_tables.items():\n",
    "        if k in useful:\n",
    "#             v=v.drop(['binning'],axis=1)\n",
    "            v.to_excel(writer,sheet_name = k)"
   ]
  },
  {
   "cell_type": "markdown",
   "id": "96d3ed0a",
   "metadata": {},
   "source": [
    "<p><span style=\"font-size:18px\">（三）WOE转换</span></p>\n",
    "\n",
    "通过特征分箱，将原数据映射到不同的区间，但如果直接把箱序号作为特征变量值是不够理想的，因为组号是等距的，而badrate不等距，WOE可以把相对于bad rate显现非特性的特征转换为线性的，这对于逻辑回归非常有必要。除此之外，转成WOE的数据也更加稳健和容易操作。"
   ]
  },
  {
   "cell_type": "code",
   "execution_count": 717,
   "id": "a9ec4ab1",
   "metadata": {},
   "outputs": [],
   "source": [
    "def trans_woe(df, var_name, woe, boundarys):\n",
    "    woe_name=var_name+'_woe'\n",
    "#     woe_name=var_name\n",
    "    for i in range(len(woe)): \n",
    "        if i==0:\n",
    "            df.loc[(df[var_name]<boundarys[i+1]), woe_name]=woe[i] #第一个区间\n",
    "        elif (i>0) and (i<=len(woe)-2):\n",
    "            df.loc[((df[var_name]>=boundarys[i])&(df[var_name]<boundarys[i+1])),woe_name]=woe[i] #中间的区间\n",
    "        else:\n",
    "            df.loc[(df[var_name]>=boundarys[len(woe)-1]),woe_name]=woe[len(woe)-1]  #最后一个区间\n",
    "    return df"
   ]
  },
  {
   "cell_type": "code",
   "execution_count": 718,
   "id": "b4ded4fe",
   "metadata": {},
   "outputs": [],
   "source": [
    "data_woe=data.copy(deep=True)"
   ]
  },
  {
   "cell_type": "code",
   "execution_count": 719,
   "id": "07f6da8b",
   "metadata": {},
   "outputs": [],
   "source": [
    "#进行WOE转换\n",
    "for var_name in useful:\n",
    "    data_woe=trans_woe(data_woe, var_name, list(woe_iv_tables[var_name]['woe'].values), boundarys[var_name])"
   ]
  },
  {
   "cell_type": "code",
   "execution_count": 720,
   "id": "c7f3a5e3",
   "metadata": {},
   "outputs": [],
   "source": [
    "#只保留用于建模的列\n",
    "data_woe=data_woe.drop(['level_0','index','RevolvingUtilizationOfUnsecuredLines','age','NumberOfTime30-59DaysPastDueNotWorse','DebtRatio','MonthlyIncome','NumberOfOpenCreditLinesAndLoans','NumberOfTimes90DaysLate','NumberRealEstateLoansOrLines','NumberOfTime60-89DaysPastDueNotWorse','NumberOfDependents'],axis=1)"
   ]
  },
  {
   "cell_type": "code",
   "execution_count": 721,
   "id": "51d3bd41",
   "metadata": {},
   "outputs": [
    {
     "data": {
      "text/plain": [
       "SeriousDlqin2yrs                            0\n",
       "RevolvingUtilizationOfUnsecuredLines_woe    0\n",
       "age_woe                                     0\n",
       "NumberOfTime30-59DaysPastDueNotWorse_woe    0\n",
       "NumberOfTimes90DaysLate_woe                 0\n",
       "NumberOfTime60-89DaysPastDueNotWorse_woe    0\n",
       "dtype: int64"
      ]
     },
     "execution_count": 721,
     "metadata": {},
     "output_type": "execute_result"
    }
   ],
   "source": [
    "data_woe.isnull().sum()"
   ]
  },
  {
   "cell_type": "code",
   "execution_count": 722,
   "id": "613f537e",
   "metadata": {},
   "outputs": [
    {
     "data": {
      "text/html": [
       "<div>\n",
       "<style scoped>\n",
       "    .dataframe tbody tr th:only-of-type {\n",
       "        vertical-align: middle;\n",
       "    }\n",
       "\n",
       "    .dataframe tbody tr th {\n",
       "        vertical-align: top;\n",
       "    }\n",
       "\n",
       "    .dataframe thead th {\n",
       "        text-align: right;\n",
       "    }\n",
       "</style>\n",
       "<table border=\"1\" class=\"dataframe\">\n",
       "  <thead>\n",
       "    <tr style=\"text-align: right;\">\n",
       "      <th></th>\n",
       "      <th>SeriousDlqin2yrs</th>\n",
       "      <th>RevolvingUtilizationOfUnsecuredLines_woe</th>\n",
       "      <th>age_woe</th>\n",
       "      <th>NumberOfTime30-59DaysPastDueNotWorse_woe</th>\n",
       "      <th>NumberOfTimes90DaysLate_woe</th>\n",
       "      <th>NumberOfTime60-89DaysPastDueNotWorse_woe</th>\n",
       "    </tr>\n",
       "  </thead>\n",
       "  <tbody>\n",
       "    <tr>\n",
       "      <th>0</th>\n",
       "      <td>1</td>\n",
       "      <td>0.834870</td>\n",
       "      <td>0.180807</td>\n",
       "      <td>1.847771</td>\n",
       "      <td>-0.375861</td>\n",
       "      <td>-0.274321</td>\n",
       "    </tr>\n",
       "    <tr>\n",
       "      <th>1</th>\n",
       "      <td>0</td>\n",
       "      <td>1.366286</td>\n",
       "      <td>0.352576</td>\n",
       "      <td>-0.527571</td>\n",
       "      <td>-0.375861</td>\n",
       "      <td>-0.274321</td>\n",
       "    </tr>\n",
       "    <tr>\n",
       "      <th>2</th>\n",
       "      <td>0</td>\n",
       "      <td>0.390814</td>\n",
       "      <td>0.352576</td>\n",
       "      <td>0.914337</td>\n",
       "      <td>1.970891</td>\n",
       "      <td>-0.274321</td>\n",
       "    </tr>\n",
       "    <tr>\n",
       "      <th>3</th>\n",
       "      <td>0</td>\n",
       "      <td>-0.276550</td>\n",
       "      <td>0.547370</td>\n",
       "      <td>-0.527571</td>\n",
       "      <td>-0.375861</td>\n",
       "      <td>-0.274321</td>\n",
       "    </tr>\n",
       "    <tr>\n",
       "      <th>4</th>\n",
       "      <td>0</td>\n",
       "      <td>1.366286</td>\n",
       "      <td>0.180807</td>\n",
       "      <td>0.914337</td>\n",
       "      <td>-0.375861</td>\n",
       "      <td>-0.274321</td>\n",
       "    </tr>\n",
       "    <tr>\n",
       "      <th>...</th>\n",
       "      <td>...</td>\n",
       "      <td>...</td>\n",
       "      <td>...</td>\n",
       "      <td>...</td>\n",
       "      <td>...</td>\n",
       "      <td>...</td>\n",
       "    </tr>\n",
       "    <tr>\n",
       "      <th>149147</th>\n",
       "      <td>0</td>\n",
       "      <td>-1.342155</td>\n",
       "      <td>-0.993792</td>\n",
       "      <td>-0.527571</td>\n",
       "      <td>-0.375861</td>\n",
       "      <td>-0.274321</td>\n",
       "    </tr>\n",
       "    <tr>\n",
       "      <th>149148</th>\n",
       "      <td>0</td>\n",
       "      <td>-0.276550</td>\n",
       "      <td>0.180807</td>\n",
       "      <td>-0.527571</td>\n",
       "      <td>-0.375861</td>\n",
       "      <td>-0.274321</td>\n",
       "    </tr>\n",
       "    <tr>\n",
       "      <th>149149</th>\n",
       "      <td>0</td>\n",
       "      <td>-0.276550</td>\n",
       "      <td>-0.369858</td>\n",
       "      <td>-0.527571</td>\n",
       "      <td>-0.375861</td>\n",
       "      <td>-0.274321</td>\n",
       "    </tr>\n",
       "    <tr>\n",
       "      <th>149150</th>\n",
       "      <td>0</td>\n",
       "      <td>-1.342155</td>\n",
       "      <td>0.547370</td>\n",
       "      <td>-0.527571</td>\n",
       "      <td>-0.375861</td>\n",
       "      <td>-0.274321</td>\n",
       "    </tr>\n",
       "    <tr>\n",
       "      <th>149151</th>\n",
       "      <td>0</td>\n",
       "      <td>0.834870</td>\n",
       "      <td>-0.993792</td>\n",
       "      <td>-0.527571</td>\n",
       "      <td>-0.375861</td>\n",
       "      <td>-0.274321</td>\n",
       "    </tr>\n",
       "  </tbody>\n",
       "</table>\n",
       "<p>149152 rows × 6 columns</p>\n",
       "</div>"
      ],
      "text/plain": [
       "        SeriousDlqin2yrs  RevolvingUtilizationOfUnsecuredLines_woe   age_woe  \\\n",
       "0                      1                                  0.834870  0.180807   \n",
       "1                      0                                  1.366286  0.352576   \n",
       "2                      0                                  0.390814  0.352576   \n",
       "3                      0                                 -0.276550  0.547370   \n",
       "4                      0                                  1.366286  0.180807   \n",
       "...                  ...                                       ...       ...   \n",
       "149147                 0                                 -1.342155 -0.993792   \n",
       "149148                 0                                 -0.276550  0.180807   \n",
       "149149                 0                                 -0.276550 -0.369858   \n",
       "149150                 0                                 -1.342155  0.547370   \n",
       "149151                 0                                  0.834870 -0.993792   \n",
       "\n",
       "        NumberOfTime30-59DaysPastDueNotWorse_woe  NumberOfTimes90DaysLate_woe  \\\n",
       "0                                       1.847771                    -0.375861   \n",
       "1                                      -0.527571                    -0.375861   \n",
       "2                                       0.914337                     1.970891   \n",
       "3                                      -0.527571                    -0.375861   \n",
       "4                                       0.914337                    -0.375861   \n",
       "...                                          ...                          ...   \n",
       "149147                                 -0.527571                    -0.375861   \n",
       "149148                                 -0.527571                    -0.375861   \n",
       "149149                                 -0.527571                    -0.375861   \n",
       "149150                                 -0.527571                    -0.375861   \n",
       "149151                                 -0.527571                    -0.375861   \n",
       "\n",
       "        NumberOfTime60-89DaysPastDueNotWorse_woe  \n",
       "0                                      -0.274321  \n",
       "1                                      -0.274321  \n",
       "2                                      -0.274321  \n",
       "3                                      -0.274321  \n",
       "4                                      -0.274321  \n",
       "...                                          ...  \n",
       "149147                                 -0.274321  \n",
       "149148                                 -0.274321  \n",
       "149149                                 -0.274321  \n",
       "149150                                 -0.274321  \n",
       "149151                                 -0.274321  \n",
       "\n",
       "[149152 rows x 6 columns]"
      ]
     },
     "execution_count": 722,
     "metadata": {},
     "output_type": "execute_result"
    }
   ],
   "source": [
    "data_woe"
   ]
  },
  {
   "cell_type": "code",
   "execution_count": 723,
   "id": "ae5ba502",
   "metadata": {},
   "outputs": [
    {
     "data": {
      "text/html": [
       "<div>\n",
       "<style scoped>\n",
       "    .dataframe tbody tr th:only-of-type {\n",
       "        vertical-align: middle;\n",
       "    }\n",
       "\n",
       "    .dataframe tbody tr th {\n",
       "        vertical-align: top;\n",
       "    }\n",
       "\n",
       "    .dataframe thead th {\n",
       "        text-align: right;\n",
       "    }\n",
       "</style>\n",
       "<table border=\"1\" class=\"dataframe\">\n",
       "  <thead>\n",
       "    <tr style=\"text-align: right;\">\n",
       "      <th></th>\n",
       "      <th>RevolvingUtilizationOfUnsecuredLines_woe</th>\n",
       "      <th>age_woe</th>\n",
       "      <th>NumberOfTime30-59DaysPastDueNotWorse_woe</th>\n",
       "      <th>NumberOfTimes90DaysLate_woe</th>\n",
       "      <th>NumberOfTime60-89DaysPastDueNotWorse_woe</th>\n",
       "    </tr>\n",
       "  </thead>\n",
       "  <tbody>\n",
       "    <tr>\n",
       "      <th>0</th>\n",
       "      <td>0.834870</td>\n",
       "      <td>0.180807</td>\n",
       "      <td>1.847771</td>\n",
       "      <td>-0.375861</td>\n",
       "      <td>-0.274321</td>\n",
       "    </tr>\n",
       "    <tr>\n",
       "      <th>1</th>\n",
       "      <td>1.366286</td>\n",
       "      <td>0.352576</td>\n",
       "      <td>-0.527571</td>\n",
       "      <td>-0.375861</td>\n",
       "      <td>-0.274321</td>\n",
       "    </tr>\n",
       "    <tr>\n",
       "      <th>2</th>\n",
       "      <td>0.390814</td>\n",
       "      <td>0.352576</td>\n",
       "      <td>0.914337</td>\n",
       "      <td>1.970891</td>\n",
       "      <td>-0.274321</td>\n",
       "    </tr>\n",
       "    <tr>\n",
       "      <th>3</th>\n",
       "      <td>-0.276550</td>\n",
       "      <td>0.547370</td>\n",
       "      <td>-0.527571</td>\n",
       "      <td>-0.375861</td>\n",
       "      <td>-0.274321</td>\n",
       "    </tr>\n",
       "    <tr>\n",
       "      <th>4</th>\n",
       "      <td>1.366286</td>\n",
       "      <td>0.180807</td>\n",
       "      <td>0.914337</td>\n",
       "      <td>-0.375861</td>\n",
       "      <td>-0.274321</td>\n",
       "    </tr>\n",
       "  </tbody>\n",
       "</table>\n",
       "</div>"
      ],
      "text/plain": [
       "   RevolvingUtilizationOfUnsecuredLines_woe   age_woe  \\\n",
       "0                                  0.834870  0.180807   \n",
       "1                                  1.366286  0.352576   \n",
       "2                                  0.390814  0.352576   \n",
       "3                                 -0.276550  0.547370   \n",
       "4                                  1.366286  0.180807   \n",
       "\n",
       "   NumberOfTime30-59DaysPastDueNotWorse_woe  NumberOfTimes90DaysLate_woe  \\\n",
       "0                                  1.847771                    -0.375861   \n",
       "1                                 -0.527571                    -0.375861   \n",
       "2                                  0.914337                     1.970891   \n",
       "3                                 -0.527571                    -0.375861   \n",
       "4                                  0.914337                    -0.375861   \n",
       "\n",
       "   NumberOfTime60-89DaysPastDueNotWorse_woe  \n",
       "0                                 -0.274321  \n",
       "1                                 -0.274321  \n",
       "2                                 -0.274321  \n",
       "3                                 -0.274321  \n",
       "4                                 -0.274321  "
      ]
     },
     "execution_count": 723,
     "metadata": {},
     "output_type": "execute_result"
    }
   ],
   "source": [
    "#将数据划分为特征X和因变量y\n",
    "Y=data_woe['SeriousDlqin2yrs']\n",
    "X=data_woe.iloc[:,-5:]\n",
    "X.head()"
   ]
  },
  {
   "cell_type": "markdown",
   "id": "efe1cc16",
   "metadata": {},
   "source": [
    "<p><span style=\"font-size:20px\">七、逻辑回归</span></p>\n",
    "\n",
    "本节将基于上一节转换得到的WOE数据，进行数据归一化、数据集划分、数据平衡、模型训练与模型评估，从而构建用户信用评分的逻辑回归模型。逻辑回归是一种用于二分类的模型，它输出属于类别1的概率，其表达式如下：\n",
    "\n",
    "$$P(x)=Sigmoid(XW)=\\frac{1}{1+e^{-(w1x1+w2x2+....+w_kx_k+b)}}$$\n",
    "\n",
    "其中，b是模型的截距，w1-wk为模型的系数。可以看出，逻辑回归模型其实相当于用线性函数综合所有变量，再用sigmoid函数将综合值转换为概率值。逻辑回归用概率最大化作为损失函数，即取何值时，模型预测正确的概率最大。其损失函数如下：\n",
    "\n",
    "$$L(W)=\\sum_{i=1}^{m}[y_i*ln(P_i)+(1-y_i)*ln(1-P_i)]$$\n",
    "\n",
    "逻辑回归模型无法求得精确解，通常使用梯度下降等算法进行数值求解，损失函数的梯度公式为：\n",
    "\n",
    "$$\\frac{∂L(W)}{∂W}=X^T(p-y)$$\n"
   ]
  },
  {
   "cell_type": "markdown",
   "id": "88e7b192",
   "metadata": {},
   "source": [
    "<p><span style=\"font-size:18px\">（一）数据归一化</span></p>\n",
    "\n",
    "通常在调用逻辑回归之前，需要将数据进行归一化，使用以下公式将数据缩放到[0,1]：\n",
    "\n",
    "$$x_{norm}=\\frac{x-x_{min}}{x_{max}-x_{min}}$$"
   ]
  },
  {
   "cell_type": "code",
   "execution_count": 724,
   "id": "792fa7a2",
   "metadata": {},
   "outputs": [],
   "source": [
    "# xmin=X.min(axis=0)\n",
    "# xmax=X.max(axis=0)\n",
    "# X_norm=(X-xmin)/(xmax-xmin)\n",
    "# X_norm.head()"
   ]
  },
  {
   "cell_type": "markdown",
   "id": "e874b9f7",
   "metadata": {},
   "source": [
    "<p><span style=\"font-size:18px\">（二）数据集划分</span></p>"
   ]
  },
  {
   "cell_type": "code",
   "execution_count": 725,
   "id": "851bbc97",
   "metadata": {},
   "outputs": [],
   "source": [
    "#按照70:30的比例划分训练集与测试集\n",
    "from sklearn.model_selection import train_test_split\n",
    "X_train, X_test, y_train, y_test=train_test_split(X, Y, test_size=0.3, random_state=2)"
   ]
  },
  {
   "cell_type": "markdown",
   "id": "6aedbed2",
   "metadata": {},
   "source": [
    "<p><span style=\"font-size:18px\">（三）数据集平衡</span></p>\n",
    "\n",
    "对于不平衡数据，通常采用欠采样或是过采样的方式平衡数据。欠采样即从大数目类别样本选取和小数目类别样本数目相当的样本，然后和少数目类别样本组成新的数据集，使得在新的数据集中正负样本比例相当。过采样即少数类中一个样本抽取多次，从而使正负样本数目接近，再进行学习。在这里使用SMOTE算法对训练数据进行过采样。"
   ]
  },
  {
   "cell_type": "code",
   "execution_count": 726,
   "id": "861363f2",
   "metadata": {},
   "outputs": [
    {
     "data": {
      "text/plain": [
       "Counter({0: 97432, 1: 97432})"
      ]
     },
     "execution_count": 726,
     "metadata": {},
     "output_type": "execute_result"
    }
   ],
   "source": [
    "from imblearn.over_sampling import SMOTE\n",
    "from collections import Counter\n",
    "over = SMOTE(sampling_strategy = 1)\n",
    "X_train, y_train = over.fit_resample(X_train, y_train)\n",
    "Counter(y_train)"
   ]
  },
  {
   "cell_type": "markdown",
   "id": "06bca41d",
   "metadata": {},
   "source": [
    "<p><span style=\"font-size:18px\">（四）模型训练</span></p>"
   ]
  },
  {
   "cell_type": "code",
   "execution_count": 727,
   "id": "d8a4802e",
   "metadata": {},
   "outputs": [],
   "source": [
    "model = LR(random_state=42).fit(X_train,y_train)"
   ]
  },
  {
   "cell_type": "code",
   "execution_count": 728,
   "id": "19b93ee0",
   "metadata": {},
   "outputs": [
    {
     "data": {
      "text/plain": [
       "0.8008760559603093"
      ]
     },
     "execution_count": 728,
     "metadata": {},
     "output_type": "execute_result"
    }
   ],
   "source": [
    "#在验证集上看性能\n",
    "model.score(X_test,y_test)"
   ]
  },
  {
   "cell_type": "code",
   "execution_count": 729,
   "id": "a3aa1835",
   "metadata": {},
   "outputs": [
    {
     "name": "stdout",
     "output_type": "stream",
     "text": [
      "AUC分数： 0.8537653490188752\n"
     ]
    },
    {
     "data": {
      "image/png": "[encoded data removed]",
      "text/plain": [
       "<Figure size 640x480 with 1 Axes>"
      ]
     },
     "metadata": {},
     "output_type": "display_data"
    }
   ],
   "source": [
    "import sklearn.metrics as metrics\n",
    "# calculate the fpr and tpr for all thresholds of the classification\n",
    "probs = model.predict_proba(X_test)\n",
    "\n",
    "preds = probs[:,1]\n",
    "fpr, tpr, threshold = metrics.roc_curve(y_test, preds)\n",
    "roc_auc = metrics.auc(fpr, tpr)\n",
    "\n",
    "print('AUC分数：', roc_auc)\n",
    "\n",
    "# method I: plt\n",
    "import matplotlib.pyplot as plt\n",
    "plt.title('Receiver Operating Characteristic')\n",
    "plt.plot(fpr, tpr, 'b', label = 'AUC = %0.2f' % roc_auc)\n",
    "plt.legend(loc = 'lower right')\n",
    "plt.plot([0, 1], [0, 1],'r--')\n",
    "plt.xlim([0, 1])\n",
    "plt.ylim([0, 1])\n",
    "plt.ylabel('True Positive Rate')\n",
    "plt.xlabel('False Positive Rate')\n",
    "plt.show()"
   ]
  },
  {
   "cell_type": "markdown",
   "id": "165aa91b",
   "metadata": {},
   "source": [
    "通常AUC和投产的关系如下：\n",
    "<ul>\n",
    "\t<li>AUC&gt;0.63：模型对y有区分度（不可投产）</li>\n",
    "\t<li>AUC&gt;0.68：有效益（不可投产）</li>\n",
    "\t<li>AUC&gt;0.73：模型可投产</li>\n",
    "</ul>\n",
    "\n",
    "由ROC曲线可知，模型的AUC达到0.85，整体性能较好，基本可以满足需求。在实际生产工作中，应花费更多的时间和业务人员调整AUC曲线以达到最优模型。"
   ]
  },
  {
   "cell_type": "code",
   "execution_count": 730,
   "id": "cb4305bc",
   "metadata": {},
   "outputs": [
    {
     "data": {
      "text/plain": [
       "array([[0.68056389, 0.52225767, 0.65002843, 0.64861883, 0.49774068]])"
      ]
     },
     "execution_count": 730,
     "metadata": {},
     "output_type": "execute_result"
    }
   ],
   "source": [
    "#查看模型系数\n",
    "model.coef_"
   ]
  },
  {
   "cell_type": "markdown",
   "id": "2487f614",
   "metadata": {},
   "source": [
    "<p><span style=\"font-size:20px\">八、评分卡转换</span></p>\n",
    "\n",
    "逻辑回归模型得到的是用户违约的概率，现需要将其通过评分卡转换为用户评分，转换方法是将逻辑回归模型的线性部分抽出，并作一定的线性缩放。转换步骤如下。\n",
    "\n",
    "1. 令odds=$\\frac{P}{1-P}$，它是坏用户的概率与好用户的概率的比值。根据逻辑回归原理，$P=\\frac{1}{1+e^{-(wx+b)}}$，变化可得，$ln(\\frac{P}{1-P})=wx+b$，或$ln(odds)=wx+b$\n",
    "\n",
    "\n",
    "2. 评分卡背后的逻辑是odds的变动与评分变动的映射，设计公式如下：\n",
    "\n",
    "$$Score=A-B*ln(odds)$$\n",
    "\n",
    "其中A与B是常数，B前面取符号是为了满足“违约概率越低，得分越高”，即“高分高信用低风险”。\n",
    "\n",
    "\n",
    "3. 定义两个假设:\n",
    "\n",
    "    a. 基准分。当odds为初始值$θ_0$时的分数$P_0$。通常业界的风控策略基准分设置在600左右，其公式为：\n",
    "    \n",
    "    $$P_0=A-B*ln(θ_0)$$\n",
    "    \n",
    "    b. PDO(point of double)。即比率翻番时分数的变动值。例如假设当odds翻倍时，分值减少20，则PDO=30\n",
    "    \n",
    "    \n",
    "4. 根据$θ_0$，$P_0$和PDO计算A和B：\n",
    "\n",
    "    a. 首先根据PDO的定义可知：\n",
    "    \n",
    "    $$P_0-PDO=A-B*ln(2θ_0)$$\n",
    "    \n",
    "    b. 和3a联立可解得：\n",
    "    \n",
    "    $$A=P_0+B*ln(θ_0)$$\n",
    "    \n",
    "    $$B=\\frac{PDO}{ln2}$$\n",
    "    \n",
    "\n",
    "5. 将A，B的值代入1和2，把分箱映射为分数：\n",
    "\n",
    "$$Score=A-B\\{b+w_1x_1+...+w_nx_n\\}$$\n",
    "\n",
    "\n",
    "其中b是逻辑回归模型的截距，w是逻辑回归模型的参数，变量x是出现在最终模型的入模变量，且所有的入模变量都进行了WOE编码。将上式进一步转化可得：\n",
    "\n",
    "\n",
    "$$Score=A-B*b-B\\{w_1x_1+...+w_nx_n\\}$$\n",
    "\n",
    "\n",
    "其中$A-B*b$又称为基础分BaseScore，$-B*w_nx_n$为每个特征每个分箱的特征分FeatureScore。在计算用户得分时，只需算得用户各个特征所属分组，然后在表中查得特征得分，再加上基础分，就是用户的总评分。"
   ]
  },
  {
   "cell_type": "code",
   "execution_count": 731,
   "id": "30025df3",
   "metadata": {
    "scrolled": true
   },
   "outputs": [
    {
     "name": "stdout",
     "output_type": "stream",
     "text": [
      "w:  [0.68056389 0.52225767 0.65002843 0.64861883 0.49774068]\n",
      "b:  0.02552065319436435\n"
     ]
    }
   ],
   "source": [
    "#提取模型系数w与阈值b\n",
    "w = model.coef_[0]                                  # 模型系数(对应归一化数据)\n",
    "b = model.intercept_[0]                             # 模型阈值(对应归一化数据)\n",
    "# w = w_norm/(xmax-xmin)                                 # 模型系数(对应原始数据)\n",
    "# b = b_norm -  (w_norm/(xmax - xmin)).dot(xmin) \n",
    "print(\"w: \",w)\n",
    "print(\"b: \",b)"
   ]
  },
  {
   "cell_type": "code",
   "execution_count": 732,
   "id": "e14529c0",
   "metadata": {},
   "outputs": [
    {
     "data": {
      "text/plain": [
       "{'RevolvingUtilizationOfUnsecuredLines': 0.68056388546028,\n",
       " 'age': 0.5222576735295476,\n",
       " 'NumberOfTime30-59DaysPastDueNotWorse': 0.6500284284754693,\n",
       " 'NumberOfTimes90DaysLate': 0.64861883060314,\n",
       " 'NumberOfTime60-89DaysPastDueNotWorse': 0.4977406834004516}"
      ]
     },
     "execution_count": 732,
     "metadata": {},
     "output_type": "execute_result"
    }
   ],
   "source": [
    "#将权重存入字典\n",
    "weights={}\n",
    "for i,name in enumerate(useful):\n",
    "    weights[name]=w[i]\n",
    "weights"
   ]
  },
  {
   "cell_type": "code",
   "execution_count": 733,
   "id": "52d6f50e",
   "metadata": {},
   "outputs": [
    {
     "name": "stdout",
     "output_type": "stream",
     "text": [
      "A:  712.8771237954945\n",
      "B:  28.85390081777927\n"
     ]
    }
   ],
   "source": [
    "#将逻辑回归模型转为分数表形式输出模型\n",
    "#令θ0=50,PDO=20,P0=600\n",
    "theta0=50\n",
    "PDO=20\n",
    "P0=600\n",
    "B=PDO/(math.log(2))\n",
    "A=P0+B*math.log(theta0)\n",
    "print(\"A: \",A)\n",
    "print(\"B: \",B)"
   ]
  },
  {
   "cell_type": "code",
   "execution_count": 734,
   "id": "7b560e8d",
   "metadata": {},
   "outputs": [
    {
     "data": {
      "text/plain": [
       "712.1407533994194"
      ]
     },
     "execution_count": 734,
     "metadata": {},
     "output_type": "execute_result"
    }
   ],
   "source": [
    "#计算基础分\n",
    "base_score=A-B*b\n",
    "base_score"
   ]
  },
  {
   "cell_type": "code",
   "execution_count": 735,
   "id": "752b7264",
   "metadata": {
    "scrolled": true
   },
   "outputs": [
    {
     "data": {
      "text/html": [
       "<div>\n",
       "<style scoped>\n",
       "    .dataframe tbody tr th:only-of-type {\n",
       "        vertical-align: middle;\n",
       "    }\n",
       "\n",
       "    .dataframe tbody tr th {\n",
       "        vertical-align: top;\n",
       "    }\n",
       "\n",
       "    .dataframe thead th {\n",
       "        text-align: right;\n",
       "    }\n",
       "</style>\n",
       "<table border=\"1\" class=\"dataframe\">\n",
       "  <thead>\n",
       "    <tr style=\"text-align: right;\">\n",
       "      <th></th>\n",
       "      <th>features</th>\n",
       "      <th>bins</th>\n",
       "      <th>woe</th>\n",
       "    </tr>\n",
       "  </thead>\n",
       "  <tbody>\n",
       "    <tr>\n",
       "      <th>0</th>\n",
       "      <td>RevolvingUtilizationOfUnsecuredLines</td>\n",
       "      <td>[0.0, 0.115)</td>\n",
       "      <td>-1.342155</td>\n",
       "    </tr>\n",
       "    <tr>\n",
       "      <th>1</th>\n",
       "      <td>RevolvingUtilizationOfUnsecuredLines</td>\n",
       "      <td>[0.115, 0.218)</td>\n",
       "      <td>-0.833253</td>\n",
       "    </tr>\n",
       "    <tr>\n",
       "      <th>2</th>\n",
       "      <td>RevolvingUtilizationOfUnsecuredLines</td>\n",
       "      <td>[0.218, 0.495)</td>\n",
       "      <td>-0.276550</td>\n",
       "    </tr>\n",
       "    <tr>\n",
       "      <th>3</th>\n",
       "      <td>RevolvingUtilizationOfUnsecuredLines</td>\n",
       "      <td>[0.495, 0.698)</td>\n",
       "      <td>0.390814</td>\n",
       "    </tr>\n",
       "    <tr>\n",
       "      <th>4</th>\n",
       "      <td>RevolvingUtilizationOfUnsecuredLines</td>\n",
       "      <td>[0.698, 0.86)</td>\n",
       "      <td>0.834870</td>\n",
       "    </tr>\n",
       "    <tr>\n",
       "      <th>5</th>\n",
       "      <td>RevolvingUtilizationOfUnsecuredLines</td>\n",
       "      <td>[0.86, 50708.1)</td>\n",
       "      <td>1.366286</td>\n",
       "    </tr>\n",
       "    <tr>\n",
       "      <th>0</th>\n",
       "      <td>age</td>\n",
       "      <td>[21.0, 35.5)</td>\n",
       "      <td>0.547370</td>\n",
       "    </tr>\n",
       "    <tr>\n",
       "      <th>1</th>\n",
       "      <td>age</td>\n",
       "      <td>[35.5, 42.5)</td>\n",
       "      <td>0.352576</td>\n",
       "    </tr>\n",
       "    <tr>\n",
       "      <th>2</th>\n",
       "      <td>age</td>\n",
       "      <td>[42.5, 53.5)</td>\n",
       "      <td>0.180807</td>\n",
       "    </tr>\n",
       "    <tr>\n",
       "      <th>3</th>\n",
       "      <td>age</td>\n",
       "      <td>[53.5, 56.5)</td>\n",
       "      <td>-0.057629</td>\n",
       "    </tr>\n",
       "    <tr>\n",
       "      <th>4</th>\n",
       "      <td>age</td>\n",
       "      <td>[56.5, 63.5)</td>\n",
       "      <td>-0.369858</td>\n",
       "    </tr>\n",
       "    <tr>\n",
       "      <th>5</th>\n",
       "      <td>age</td>\n",
       "      <td>[63.5, 99.1)</td>\n",
       "      <td>-0.993792</td>\n",
       "    </tr>\n",
       "    <tr>\n",
       "      <th>0</th>\n",
       "      <td>NumberOfTime30-59DaysPastDueNotWorse</td>\n",
       "      <td>[0.0, 1.0)</td>\n",
       "      <td>-0.527571</td>\n",
       "    </tr>\n",
       "    <tr>\n",
       "      <th>1</th>\n",
       "      <td>NumberOfTime30-59DaysPastDueNotWorse</td>\n",
       "      <td>[1.0, 2.0)</td>\n",
       "      <td>0.914337</td>\n",
       "    </tr>\n",
       "    <tr>\n",
       "      <th>2</th>\n",
       "      <td>NumberOfTime30-59DaysPastDueNotWorse</td>\n",
       "      <td>[2.0, 6.0)</td>\n",
       "      <td>1.847771</td>\n",
       "    </tr>\n",
       "    <tr>\n",
       "      <th>3</th>\n",
       "      <td>NumberOfTime30-59DaysPastDueNotWorse</td>\n",
       "      <td>[6.0, 13.0)</td>\n",
       "      <td>2.646885</td>\n",
       "    </tr>\n",
       "    <tr>\n",
       "      <th>0</th>\n",
       "      <td>NumberOfTimes90DaysLate</td>\n",
       "      <td>[0.0, 1.0)</td>\n",
       "      <td>-0.375861</td>\n",
       "    </tr>\n",
       "    <tr>\n",
       "      <th>1</th>\n",
       "      <td>NumberOfTimes90DaysLate</td>\n",
       "      <td>[1.0, 2.0)</td>\n",
       "      <td>1.970891</td>\n",
       "    </tr>\n",
       "    <tr>\n",
       "      <th>2</th>\n",
       "      <td>NumberOfTimes90DaysLate</td>\n",
       "      <td>[2.0, 4.0)</td>\n",
       "      <td>2.736955</td>\n",
       "    </tr>\n",
       "    <tr>\n",
       "      <th>3</th>\n",
       "      <td>NumberOfTimes90DaysLate</td>\n",
       "      <td>[4.0, 17.0)</td>\n",
       "      <td>3.310327</td>\n",
       "    </tr>\n",
       "    <tr>\n",
       "      <th>0</th>\n",
       "      <td>NumberOfTime60-89DaysPastDueNotWorse</td>\n",
       "      <td>[0.0, 1.0)</td>\n",
       "      <td>-0.274321</td>\n",
       "    </tr>\n",
       "    <tr>\n",
       "      <th>1</th>\n",
       "      <td>NumberOfTime60-89DaysPastDueNotWorse</td>\n",
       "      <td>[1.0, 2.0)</td>\n",
       "      <td>1.847084</td>\n",
       "    </tr>\n",
       "    <tr>\n",
       "      <th>2</th>\n",
       "      <td>NumberOfTime60-89DaysPastDueNotWorse</td>\n",
       "      <td>[2.0, 6.0)</td>\n",
       "      <td>2.747287</td>\n",
       "    </tr>\n",
       "    <tr>\n",
       "      <th>3</th>\n",
       "      <td>NumberOfTime60-89DaysPastDueNotWorse</td>\n",
       "      <td>[6.0, 11.0)</td>\n",
       "      <td>3.234672</td>\n",
       "    </tr>\n",
       "  </tbody>\n",
       "</table>\n",
       "</div>"
      ],
      "text/plain": [
       "                               features             bins       woe\n",
       "0  RevolvingUtilizationOfUnsecuredLines     [0.0, 0.115) -1.342155\n",
       "1  RevolvingUtilizationOfUnsecuredLines   [0.115, 0.218) -0.833253\n",
       "2  RevolvingUtilizationOfUnsecuredLines   [0.218, 0.495) -0.276550\n",
       "3  RevolvingUtilizationOfUnsecuredLines   [0.495, 0.698)  0.390814\n",
       "4  RevolvingUtilizationOfUnsecuredLines    [0.698, 0.86)  0.834870\n",
       "5  RevolvingUtilizationOfUnsecuredLines  [0.86, 50708.1)  1.366286\n",
       "0                                   age     [21.0, 35.5)  0.547370\n",
       "1                                   age     [35.5, 42.5)  0.352576\n",
       "2                                   age     [42.5, 53.5)  0.180807\n",
       "3                                   age     [53.5, 56.5) -0.057629\n",
       "4                                   age     [56.5, 63.5) -0.369858\n",
       "5                                   age     [63.5, 99.1) -0.993792\n",
       "0  NumberOfTime30-59DaysPastDueNotWorse       [0.0, 1.0) -0.527571\n",
       "1  NumberOfTime30-59DaysPastDueNotWorse       [1.0, 2.0)  0.914337\n",
       "2  NumberOfTime30-59DaysPastDueNotWorse       [2.0, 6.0)  1.847771\n",
       "3  NumberOfTime30-59DaysPastDueNotWorse      [6.0, 13.0)  2.646885\n",
       "0               NumberOfTimes90DaysLate       [0.0, 1.0) -0.375861\n",
       "1               NumberOfTimes90DaysLate       [1.0, 2.0)  1.970891\n",
       "2               NumberOfTimes90DaysLate       [2.0, 4.0)  2.736955\n",
       "3               NumberOfTimes90DaysLate      [4.0, 17.0)  3.310327\n",
       "0  NumberOfTime60-89DaysPastDueNotWorse       [0.0, 1.0) -0.274321\n",
       "1  NumberOfTime60-89DaysPastDueNotWorse       [1.0, 2.0)  1.847084\n",
       "2  NumberOfTime60-89DaysPastDueNotWorse       [2.0, 6.0)  2.747287\n",
       "3  NumberOfTime60-89DaysPastDueNotWorse      [6.0, 11.0)  3.234672"
      ]
     },
     "execution_count": 735,
     "metadata": {},
     "output_type": "execute_result"
    }
   ],
   "source": [
    "#计算特征分\n",
    "#首先建立存储表\n",
    "df_bin_to_woe=pd.DataFrame(columns=['features','bins','woe'])\n",
    "for f in useful: \n",
    "    temp=woe_iv_tables[f].copy(deep=True)\n",
    "    temp.reset_index(inplace=True)\n",
    "    temp=temp[['bins','woe']]\n",
    "    temp['features']=f\n",
    "    temp=temp[['features','bins','woe']]\n",
    "    df_bin_to_woe = pd.concat([df_bin_to_woe,temp])\n",
    "    \n",
    "df_bin_to_woe"
   ]
  },
  {
   "cell_type": "code",
   "execution_count": 736,
   "id": "6a5f1797",
   "metadata": {},
   "outputs": [],
   "source": [
    "def generate_scorecard(model_coef, binning_df, features, B):\n",
    "    lst=[]\n",
    "    cols=['Features','Bins','WOE','Score']\n",
    "    coef=model_coef[0]\n",
    "    for i in range(len(features)):\n",
    "        f=features[i]\n",
    "        df = binning_df[binning_df['features']==f]\n",
    "        for index,row in df.iterrows():\n",
    "            lst.append([f,row['bins'],row['woe'], int(round(-coef[i]*row['woe']*B))])\n",
    "    data = pd.DataFrame(lst, columns=cols)\n",
    "    return data\n"
   ]
  },
  {
   "cell_type": "code",
   "execution_count": 737,
   "id": "1849648a",
   "metadata": {},
   "outputs": [
    {
     "data": {
      "text/html": [
       "<div>\n",
       "<style scoped>\n",
       "    .dataframe tbody tr th:only-of-type {\n",
       "        vertical-align: middle;\n",
       "    }\n",
       "\n",
       "    .dataframe tbody tr th {\n",
       "        vertical-align: top;\n",
       "    }\n",
       "\n",
       "    .dataframe thead th {\n",
       "        text-align: right;\n",
       "    }\n",
       "</style>\n",
       "<table border=\"1\" class=\"dataframe\">\n",
       "  <thead>\n",
       "    <tr style=\"text-align: right;\">\n",
       "      <th></th>\n",
       "      <th>Features</th>\n",
       "      <th>Bins</th>\n",
       "      <th>WOE</th>\n",
       "      <th>Score</th>\n",
       "    </tr>\n",
       "  </thead>\n",
       "  <tbody>\n",
       "    <tr>\n",
       "      <th>0</th>\n",
       "      <td>RevolvingUtilizationOfUnsecuredLines</td>\n",
       "      <td>[0.0, 0.115)</td>\n",
       "      <td>-1.342155</td>\n",
       "      <td>26</td>\n",
       "    </tr>\n",
       "    <tr>\n",
       "      <th>1</th>\n",
       "      <td>RevolvingUtilizationOfUnsecuredLines</td>\n",
       "      <td>[0.115, 0.218)</td>\n",
       "      <td>-0.833253</td>\n",
       "      <td>16</td>\n",
       "    </tr>\n",
       "    <tr>\n",
       "      <th>2</th>\n",
       "      <td>RevolvingUtilizationOfUnsecuredLines</td>\n",
       "      <td>[0.218, 0.495)</td>\n",
       "      <td>-0.276550</td>\n",
       "      <td>5</td>\n",
       "    </tr>\n",
       "    <tr>\n",
       "      <th>3</th>\n",
       "      <td>RevolvingUtilizationOfUnsecuredLines</td>\n",
       "      <td>[0.495, 0.698)</td>\n",
       "      <td>0.390814</td>\n",
       "      <td>-8</td>\n",
       "    </tr>\n",
       "    <tr>\n",
       "      <th>4</th>\n",
       "      <td>RevolvingUtilizationOfUnsecuredLines</td>\n",
       "      <td>[0.698, 0.86)</td>\n",
       "      <td>0.834870</td>\n",
       "      <td>-16</td>\n",
       "    </tr>\n",
       "    <tr>\n",
       "      <th>5</th>\n",
       "      <td>RevolvingUtilizationOfUnsecuredLines</td>\n",
       "      <td>[0.86, 50708.1)</td>\n",
       "      <td>1.366286</td>\n",
       "      <td>-27</td>\n",
       "    </tr>\n",
       "    <tr>\n",
       "      <th>6</th>\n",
       "      <td>age</td>\n",
       "      <td>[21.0, 35.5)</td>\n",
       "      <td>0.547370</td>\n",
       "      <td>-8</td>\n",
       "    </tr>\n",
       "    <tr>\n",
       "      <th>7</th>\n",
       "      <td>age</td>\n",
       "      <td>[35.5, 42.5)</td>\n",
       "      <td>0.352576</td>\n",
       "      <td>-5</td>\n",
       "    </tr>\n",
       "    <tr>\n",
       "      <th>8</th>\n",
       "      <td>age</td>\n",
       "      <td>[42.5, 53.5)</td>\n",
       "      <td>0.180807</td>\n",
       "      <td>-3</td>\n",
       "    </tr>\n",
       "    <tr>\n",
       "      <th>9</th>\n",
       "      <td>age</td>\n",
       "      <td>[53.5, 56.5)</td>\n",
       "      <td>-0.057629</td>\n",
       "      <td>1</td>\n",
       "    </tr>\n",
       "    <tr>\n",
       "      <th>10</th>\n",
       "      <td>age</td>\n",
       "      <td>[56.5, 63.5)</td>\n",
       "      <td>-0.369858</td>\n",
       "      <td>6</td>\n",
       "    </tr>\n",
       "    <tr>\n",
       "      <th>11</th>\n",
       "      <td>age</td>\n",
       "      <td>[63.5, 99.1)</td>\n",
       "      <td>-0.993792</td>\n",
       "      <td>15</td>\n",
       "    </tr>\n",
       "    <tr>\n",
       "      <th>12</th>\n",
       "      <td>NumberOfTime30-59DaysPastDueNotWorse</td>\n",
       "      <td>[0.0, 1.0)</td>\n",
       "      <td>-0.527571</td>\n",
       "      <td>10</td>\n",
       "    </tr>\n",
       "    <tr>\n",
       "      <th>13</th>\n",
       "      <td>NumberOfTime30-59DaysPastDueNotWorse</td>\n",
       "      <td>[1.0, 2.0)</td>\n",
       "      <td>0.914337</td>\n",
       "      <td>-17</td>\n",
       "    </tr>\n",
       "    <tr>\n",
       "      <th>14</th>\n",
       "      <td>NumberOfTime30-59DaysPastDueNotWorse</td>\n",
       "      <td>[2.0, 6.0)</td>\n",
       "      <td>1.847771</td>\n",
       "      <td>-35</td>\n",
       "    </tr>\n",
       "    <tr>\n",
       "      <th>15</th>\n",
       "      <td>NumberOfTime30-59DaysPastDueNotWorse</td>\n",
       "      <td>[6.0, 13.0)</td>\n",
       "      <td>2.646885</td>\n",
       "      <td>-50</td>\n",
       "    </tr>\n",
       "    <tr>\n",
       "      <th>16</th>\n",
       "      <td>NumberOfTimes90DaysLate</td>\n",
       "      <td>[0.0, 1.0)</td>\n",
       "      <td>-0.375861</td>\n",
       "      <td>7</td>\n",
       "    </tr>\n",
       "    <tr>\n",
       "      <th>17</th>\n",
       "      <td>NumberOfTimes90DaysLate</td>\n",
       "      <td>[1.0, 2.0)</td>\n",
       "      <td>1.970891</td>\n",
       "      <td>-37</td>\n",
       "    </tr>\n",
       "    <tr>\n",
       "      <th>18</th>\n",
       "      <td>NumberOfTimes90DaysLate</td>\n",
       "      <td>[2.0, 4.0)</td>\n",
       "      <td>2.736955</td>\n",
       "      <td>-51</td>\n",
       "    </tr>\n",
       "    <tr>\n",
       "      <th>19</th>\n",
       "      <td>NumberOfTimes90DaysLate</td>\n",
       "      <td>[4.0, 17.0)</td>\n",
       "      <td>3.310327</td>\n",
       "      <td>-62</td>\n",
       "    </tr>\n",
       "    <tr>\n",
       "      <th>20</th>\n",
       "      <td>NumberOfTime60-89DaysPastDueNotWorse</td>\n",
       "      <td>[0.0, 1.0)</td>\n",
       "      <td>-0.274321</td>\n",
       "      <td>4</td>\n",
       "    </tr>\n",
       "    <tr>\n",
       "      <th>21</th>\n",
       "      <td>NumberOfTime60-89DaysPastDueNotWorse</td>\n",
       "      <td>[1.0, 2.0)</td>\n",
       "      <td>1.847084</td>\n",
       "      <td>-27</td>\n",
       "    </tr>\n",
       "    <tr>\n",
       "      <th>22</th>\n",
       "      <td>NumberOfTime60-89DaysPastDueNotWorse</td>\n",
       "      <td>[2.0, 6.0)</td>\n",
       "      <td>2.747287</td>\n",
       "      <td>-39</td>\n",
       "    </tr>\n",
       "    <tr>\n",
       "      <th>23</th>\n",
       "      <td>NumberOfTime60-89DaysPastDueNotWorse</td>\n",
       "      <td>[6.0, 11.0)</td>\n",
       "      <td>3.234672</td>\n",
       "      <td>-46</td>\n",
       "    </tr>\n",
       "  </tbody>\n",
       "</table>\n",
       "</div>"
      ],
      "text/plain": [
       "                                Features             Bins       WOE  Score\n",
       "0   RevolvingUtilizationOfUnsecuredLines     [0.0, 0.115) -1.342155     26\n",
       "1   RevolvingUtilizationOfUnsecuredLines   [0.115, 0.218) -0.833253     16\n",
       "2   RevolvingUtilizationOfUnsecuredLines   [0.218, 0.495) -0.276550      5\n",
       "3   RevolvingUtilizationOfUnsecuredLines   [0.495, 0.698)  0.390814     -8\n",
       "4   RevolvingUtilizationOfUnsecuredLines    [0.698, 0.86)  0.834870    -16\n",
       "5   RevolvingUtilizationOfUnsecuredLines  [0.86, 50708.1)  1.366286    -27\n",
       "6                                    age     [21.0, 35.5)  0.547370     -8\n",
       "7                                    age     [35.5, 42.5)  0.352576     -5\n",
       "8                                    age     [42.5, 53.5)  0.180807     -3\n",
       "9                                    age     [53.5, 56.5) -0.057629      1\n",
       "10                                   age     [56.5, 63.5) -0.369858      6\n",
       "11                                   age     [63.5, 99.1) -0.993792     15\n",
       "12  NumberOfTime30-59DaysPastDueNotWorse       [0.0, 1.0) -0.527571     10\n",
       "13  NumberOfTime30-59DaysPastDueNotWorse       [1.0, 2.0)  0.914337    -17\n",
       "14  NumberOfTime30-59DaysPastDueNotWorse       [2.0, 6.0)  1.847771    -35\n",
       "15  NumberOfTime30-59DaysPastDueNotWorse      [6.0, 13.0)  2.646885    -50\n",
       "16               NumberOfTimes90DaysLate       [0.0, 1.0) -0.375861      7\n",
       "17               NumberOfTimes90DaysLate       [1.0, 2.0)  1.970891    -37\n",
       "18               NumberOfTimes90DaysLate       [2.0, 4.0)  2.736955    -51\n",
       "19               NumberOfTimes90DaysLate      [4.0, 17.0)  3.310327    -62\n",
       "20  NumberOfTime60-89DaysPastDueNotWorse       [0.0, 1.0) -0.274321      4\n",
       "21  NumberOfTime60-89DaysPastDueNotWorse       [1.0, 2.0)  1.847084    -27\n",
       "22  NumberOfTime60-89DaysPastDueNotWorse       [2.0, 6.0)  2.747287    -39\n",
       "23  NumberOfTime60-89DaysPastDueNotWorse      [6.0, 11.0)  3.234672    -46"
      ]
     },
     "execution_count": 737,
     "metadata": {},
     "output_type": "execute_result"
    }
   ],
   "source": [
    "#获取特征分表\n",
    "score_card=generate_scorecard(model.coef_, df_bin_to_woe, useful, B)\n",
    "score_card"
   ]
  },
  {
   "cell_type": "code",
   "execution_count": 738,
   "id": "4069c0ef",
   "metadata": {},
   "outputs": [
    {
     "name": "stdout",
     "output_type": "stream",
     "text": [
      "['RevolvingUtilizationOfUnsecuredLines_woe', 'age_woe', 'NumberOfTime30-59DaysPastDueNotWorse_woe', 'NumberOfTimes90DaysLate_woe', 'NumberOfTime60-89DaysPastDueNotWorse_woe']\n"
     ]
    }
   ],
   "source": [
    "#模型输出：基础分，特征分表，特征名称\n",
    "useful2=[]\n",
    "for i in useful:\n",
    "    i=i+\"_woe\"\n",
    "    useful2.append(i)\n",
    "print(useful2)\n",
    "md={\n",
    "    'feature_score': score_card,\n",
    "    'base_score': base_score,\n",
    "    'model_feature': useful\n",
    "}"
   ]
  },
  {
   "cell_type": "code",
   "execution_count": 769,
   "id": "9cedb582",
   "metadata": {},
   "outputs": [],
   "source": [
    "#保存评分卡\n",
    "with pd.ExcelWriter('scorecard.xlsx') as writer:\n",
    "    temp=score_card.copy(deep=True)\n",
    "    temp=temp.append({'Features':'Base Score','Bins': 'NA', 'WOE':'NA', 'Score':base_score},ignore_index=True)\n",
    "    temp.to_excel(writer,sheet_name = \"scorecard\")"
   ]
  },
  {
   "cell_type": "markdown",
   "id": "a5bdc57b",
   "metadata": {},
   "source": [
    "<p><span style=\"font-size:20px\">九、评分阈值表</span></p>\n",
    "\n",
    "在上一节生成了评分卡，通过评分卡就可以对新进的用户进行评分，从而评估是否发放贷款。在模型投产时，需要设定评分阈值，将低于评分阈值的用户拒绝。评分阈值的设定需要借助评分阈值表，并结合业务而设定。\n",
    "\n",
    "阈值表由建模样本的评分统计得到，它展示了不同评分阈值给业务带来的效果。阈值表的统计需要先计算出各个样本的评分，再对评分按分段分组，统计每个分段的统计信息。"
   ]
  },
  {
   "cell_type": "code",
   "execution_count": 739,
   "id": "dd8c7cce",
   "metadata": {},
   "outputs": [],
   "source": [
    "#通过模型计算分数\n",
    "def cal_score(md,X):\n",
    "    #提取模型数据\n",
    "    score_tb=md['feature_score']\n",
    "    base_score=md['base_score']\n",
    "    features=md['model_feature']\n",
    "    #将分数表转换为字典形式\n",
    "    score_dict={feature:{} for feature in features}\n",
    "    for i in range(score_tb.shape[0]):\n",
    "        feature=score_tb.loc[i,'Features']\n",
    "        woe=score_tb.loc[i,'WOE']\n",
    "        score_dict[feature][woe]=score_tb.loc[i,'Score']\n",
    "    #将特征按WOE转换为分数\n",
    "    score=X[features].copy()\n",
    "    for col in features:\n",
    "        score[col]=score[col].map(score_dict[col])\n",
    "        \n",
    "    #计算总得分\n",
    "    score['base_score']=base_score\n",
    "    score['score']=score.sum(axis=1)\n",
    "    return score"
   ]
  },
  {
   "cell_type": "code",
   "execution_count": 759,
   "id": "21e9a106",
   "metadata": {},
   "outputs": [],
   "source": [
    "#计算所有样本分数\n",
    "model_X=X_train.copy(deep=True)\n",
    "model_X.rename(columns=lambda x: x.split('_')[0],inplace=True)\n",
    "pred_rs=cal_score(md, model_X)\n",
    "pred_rs['is_bad']=y_train.copy(deep=True)"
   ]
  },
  {
   "cell_type": "code",
   "execution_count": 760,
   "id": "a1abbf50",
   "metadata": {},
   "outputs": [],
   "source": [
    "#计算分数阈值表并查看分数分布函数\n",
    "def cal_score_threshold_tb(score_df,bin_step=10,is_bad_col_name='is_bad',score_col_name='score'):\n",
    "    # -----计算分组起始结束字段--------------\n",
    "    bin_start = math.trunc(score_df[score_col_name].min()/bin_step)*bin_step\n",
    "    bin_end   =  math.trunc(score_df[score_col_name].max()/bin_step+1)*bin_step\n",
    "    score_thd = pd.DataFrame(columns=['分组名称','本组客户','本组好客户','本组坏客户'])\n",
    "    #-----统计分组内的好坏客户个数-------\n",
    "    for cur_bin in range(bin_start,bin_end,bin_step):\n",
    "        cur_bin_name='['+str(cur_bin)+'-'+str(cur_bin+bin_step)+')'\n",
    "        cur_score_df = score_df[(score_df[score_col_name]>=cur_bin)&(score_df[score_col_name]<cur_bin+bin_step)][is_bad_col_name]\n",
    "        bad_cn = cur_score_df.sum()\n",
    "        cn = cur_score_df.shape[0]\n",
    "        score_thd.loc[score_thd.shape[0]]=[cur_bin_name,cn,cn-bad_cn,bad_cn]\n",
    "    #------计算阈值表其它字段-------------------    \n",
    "    score_thd['总客户']      = score_thd['本组客户'].sum()\n",
    "    score_thd['总好客户']    = score_thd['本组好客户'].sum()\n",
    "    score_thd['总坏客户']    = score_thd['本组坏客户'].sum()\n",
    "    score_thd['阈值']        = score_thd['分组名称'].apply(lambda x: '<'+x.split('-')[1].replace(')',''))  \n",
    "    score_thd['损失客户']    = score_thd['本组客户'].cumsum()\n",
    "    score_thd['损失客户%']   = score_thd['损失客户']/score_thd['总客户']\n",
    "    score_thd['损失好客户']  = score_thd['本组好客户'].cumsum()\n",
    "    score_thd['损失好客户%'] = score_thd['损失好客户']/score_thd['总好客户']\n",
    "    score_thd['剔除坏客户']  = score_thd['本组坏客户'].cumsum()\n",
    "    score_thd['剔除坏客户%'] = score_thd['剔除坏客户']/score_thd['总坏客户']\n",
    "    score_thd['本组坏客户占比']       = score_thd['本组坏客户']/score_thd['本组客户']\n",
    "    score_thd['损失客户中坏客户占比'] = score_thd['剔除坏客户']/score_thd['损失客户']\n",
    "    return score_thd"
   ]
  },
  {
   "cell_type": "code",
   "execution_count": 761,
   "id": "e9aa0feb",
   "metadata": {},
   "outputs": [],
   "source": [
    "# 计算分数阈值表\n",
    "score_df = pred_rs[['score','is_bad']]\n",
    "score_thd=cal_score_threshold_tb(score_df,bin_step=10)"
   ]
  },
  {
   "cell_type": "code",
   "execution_count": 762,
   "id": "b740fe48",
   "metadata": {},
   "outputs": [
    {
     "data": {
      "text/html": [
       "<div>\n",
       "<style scoped>\n",
       "    .dataframe tbody tr th:only-of-type {\n",
       "        vertical-align: middle;\n",
       "    }\n",
       "\n",
       "    .dataframe tbody tr th {\n",
       "        vertical-align: top;\n",
       "    }\n",
       "\n",
       "    .dataframe thead th {\n",
       "        text-align: right;\n",
       "    }\n",
       "</style>\n",
       "<table border=\"1\" class=\"dataframe\">\n",
       "  <thead>\n",
       "    <tr style=\"text-align: right;\">\n",
       "      <th></th>\n",
       "      <th>分组名称</th>\n",
       "      <th>本组客户</th>\n",
       "      <th>本组好客户</th>\n",
       "      <th>本组坏客户</th>\n",
       "      <th>总客户</th>\n",
       "      <th>总好客户</th>\n",
       "      <th>总坏客户</th>\n",
       "      <th>阈值</th>\n",
       "      <th>损失客户</th>\n",
       "      <th>损失客户%</th>\n",
       "      <th>损失好客户</th>\n",
       "      <th>损失好客户%</th>\n",
       "      <th>剔除坏客户</th>\n",
       "      <th>剔除坏客户%</th>\n",
       "      <th>本组坏客户占比</th>\n",
       "      <th>损失客户中坏客户占比</th>\n",
       "    </tr>\n",
       "  </thead>\n",
       "  <tbody>\n",
       "    <tr>\n",
       "      <th>0</th>\n",
       "      <td>[520-530)</td>\n",
       "      <td>1</td>\n",
       "      <td>0</td>\n",
       "      <td>1</td>\n",
       "      <td>194864</td>\n",
       "      <td>97432</td>\n",
       "      <td>97432</td>\n",
       "      <td>&lt;530</td>\n",
       "      <td>1</td>\n",
       "      <td>0.000005</td>\n",
       "      <td>0</td>\n",
       "      <td>0.000000</td>\n",
       "      <td>1</td>\n",
       "      <td>0.000010</td>\n",
       "      <td>1.000000</td>\n",
       "      <td>1.000000</td>\n",
       "    </tr>\n",
       "    <tr>\n",
       "      <th>1</th>\n",
       "      <td>[530-540)</td>\n",
       "      <td>23</td>\n",
       "      <td>0</td>\n",
       "      <td>23</td>\n",
       "      <td>194864</td>\n",
       "      <td>97432</td>\n",
       "      <td>97432</td>\n",
       "      <td>&lt;540</td>\n",
       "      <td>24</td>\n",
       "      <td>0.000123</td>\n",
       "      <td>0</td>\n",
       "      <td>0.000000</td>\n",
       "      <td>24</td>\n",
       "      <td>0.000246</td>\n",
       "      <td>1.000000</td>\n",
       "      <td>1.000000</td>\n",
       "    </tr>\n",
       "    <tr>\n",
       "      <th>2</th>\n",
       "      <td>[540-550)</td>\n",
       "      <td>274</td>\n",
       "      <td>2</td>\n",
       "      <td>272</td>\n",
       "      <td>194864</td>\n",
       "      <td>97432</td>\n",
       "      <td>97432</td>\n",
       "      <td>&lt;550</td>\n",
       "      <td>298</td>\n",
       "      <td>0.001529</td>\n",
       "      <td>2</td>\n",
       "      <td>0.000021</td>\n",
       "      <td>296</td>\n",
       "      <td>0.003038</td>\n",
       "      <td>0.992701</td>\n",
       "      <td>0.993289</td>\n",
       "    </tr>\n",
       "    <tr>\n",
       "      <th>3</th>\n",
       "      <td>[550-560)</td>\n",
       "      <td>805</td>\n",
       "      <td>19</td>\n",
       "      <td>786</td>\n",
       "      <td>194864</td>\n",
       "      <td>97432</td>\n",
       "      <td>97432</td>\n",
       "      <td>&lt;560</td>\n",
       "      <td>1103</td>\n",
       "      <td>0.005660</td>\n",
       "      <td>21</td>\n",
       "      <td>0.000216</td>\n",
       "      <td>1082</td>\n",
       "      <td>0.011105</td>\n",
       "      <td>0.976398</td>\n",
       "      <td>0.980961</td>\n",
       "    </tr>\n",
       "    <tr>\n",
       "      <th>4</th>\n",
       "      <td>[560-570)</td>\n",
       "      <td>1584</td>\n",
       "      <td>52</td>\n",
       "      <td>1532</td>\n",
       "      <td>194864</td>\n",
       "      <td>97432</td>\n",
       "      <td>97432</td>\n",
       "      <td>&lt;570</td>\n",
       "      <td>2687</td>\n",
       "      <td>0.013789</td>\n",
       "      <td>73</td>\n",
       "      <td>0.000749</td>\n",
       "      <td>2614</td>\n",
       "      <td>0.026829</td>\n",
       "      <td>0.967172</td>\n",
       "      <td>0.972832</td>\n",
       "    </tr>\n",
       "    <tr>\n",
       "      <th>5</th>\n",
       "      <td>[570-580)</td>\n",
       "      <td>1400</td>\n",
       "      <td>66</td>\n",
       "      <td>1334</td>\n",
       "      <td>194864</td>\n",
       "      <td>97432</td>\n",
       "      <td>97432</td>\n",
       "      <td>&lt;580</td>\n",
       "      <td>4087</td>\n",
       "      <td>0.020974</td>\n",
       "      <td>139</td>\n",
       "      <td>0.001427</td>\n",
       "      <td>3948</td>\n",
       "      <td>0.040521</td>\n",
       "      <td>0.952857</td>\n",
       "      <td>0.965990</td>\n",
       "    </tr>\n",
       "    <tr>\n",
       "      <th>6</th>\n",
       "      <td>[580-590)</td>\n",
       "      <td>2489</td>\n",
       "      <td>131</td>\n",
       "      <td>2358</td>\n",
       "      <td>194864</td>\n",
       "      <td>97432</td>\n",
       "      <td>97432</td>\n",
       "      <td>&lt;590</td>\n",
       "      <td>6576</td>\n",
       "      <td>0.033747</td>\n",
       "      <td>270</td>\n",
       "      <td>0.002771</td>\n",
       "      <td>6306</td>\n",
       "      <td>0.064722</td>\n",
       "      <td>0.947368</td>\n",
       "      <td>0.958942</td>\n",
       "    </tr>\n",
       "    <tr>\n",
       "      <th>7</th>\n",
       "      <td>[590-600)</td>\n",
       "      <td>2257</td>\n",
       "      <td>108</td>\n",
       "      <td>2149</td>\n",
       "      <td>194864</td>\n",
       "      <td>97432</td>\n",
       "      <td>97432</td>\n",
       "      <td>&lt;600</td>\n",
       "      <td>8833</td>\n",
       "      <td>0.045329</td>\n",
       "      <td>378</td>\n",
       "      <td>0.003880</td>\n",
       "      <td>8455</td>\n",
       "      <td>0.086778</td>\n",
       "      <td>0.952149</td>\n",
       "      <td>0.957206</td>\n",
       "    </tr>\n",
       "    <tr>\n",
       "      <th>8</th>\n",
       "      <td>[600-610)</td>\n",
       "      <td>3161</td>\n",
       "      <td>165</td>\n",
       "      <td>2996</td>\n",
       "      <td>194864</td>\n",
       "      <td>97432</td>\n",
       "      <td>97432</td>\n",
       "      <td>&lt;610</td>\n",
       "      <td>11994</td>\n",
       "      <td>0.061551</td>\n",
       "      <td>543</td>\n",
       "      <td>0.005573</td>\n",
       "      <td>11451</td>\n",
       "      <td>0.117528</td>\n",
       "      <td>0.947801</td>\n",
       "      <td>0.954727</td>\n",
       "    </tr>\n",
       "    <tr>\n",
       "      <th>9</th>\n",
       "      <td>[610-620)</td>\n",
       "      <td>4758</td>\n",
       "      <td>260</td>\n",
       "      <td>4498</td>\n",
       "      <td>194864</td>\n",
       "      <td>97432</td>\n",
       "      <td>97432</td>\n",
       "      <td>&lt;620</td>\n",
       "      <td>16752</td>\n",
       "      <td>0.085968</td>\n",
       "      <td>803</td>\n",
       "      <td>0.008242</td>\n",
       "      <td>15949</td>\n",
       "      <td>0.163694</td>\n",
       "      <td>0.945355</td>\n",
       "      <td>0.952065</td>\n",
       "    </tr>\n",
       "    <tr>\n",
       "      <th>10</th>\n",
       "      <td>[620-630)</td>\n",
       "      <td>4868</td>\n",
       "      <td>406</td>\n",
       "      <td>4462</td>\n",
       "      <td>194864</td>\n",
       "      <td>97432</td>\n",
       "      <td>97432</td>\n",
       "      <td>&lt;630</td>\n",
       "      <td>21620</td>\n",
       "      <td>0.110949</td>\n",
       "      <td>1209</td>\n",
       "      <td>0.012409</td>\n",
       "      <td>20411</td>\n",
       "      <td>0.209490</td>\n",
       "      <td>0.916598</td>\n",
       "      <td>0.944080</td>\n",
       "    </tr>\n",
       "    <tr>\n",
       "      <th>11</th>\n",
       "      <td>[630-640)</td>\n",
       "      <td>4120</td>\n",
       "      <td>331</td>\n",
       "      <td>3789</td>\n",
       "      <td>194864</td>\n",
       "      <td>97432</td>\n",
       "      <td>97432</td>\n",
       "      <td>&lt;640</td>\n",
       "      <td>25740</td>\n",
       "      <td>0.132092</td>\n",
       "      <td>1540</td>\n",
       "      <td>0.015806</td>\n",
       "      <td>24200</td>\n",
       "      <td>0.248378</td>\n",
       "      <td>0.919660</td>\n",
       "      <td>0.940171</td>\n",
       "    </tr>\n",
       "    <tr>\n",
       "      <th>12</th>\n",
       "      <td>[640-650)</td>\n",
       "      <td>5245</td>\n",
       "      <td>499</td>\n",
       "      <td>4746</td>\n",
       "      <td>194864</td>\n",
       "      <td>97432</td>\n",
       "      <td>97432</td>\n",
       "      <td>&lt;650</td>\n",
       "      <td>30985</td>\n",
       "      <td>0.159008</td>\n",
       "      <td>2039</td>\n",
       "      <td>0.020927</td>\n",
       "      <td>28946</td>\n",
       "      <td>0.297089</td>\n",
       "      <td>0.904862</td>\n",
       "      <td>0.934194</td>\n",
       "    </tr>\n",
       "    <tr>\n",
       "      <th>13</th>\n",
       "      <td>[650-660)</td>\n",
       "      <td>8631</td>\n",
       "      <td>1134</td>\n",
       "      <td>7497</td>\n",
       "      <td>194864</td>\n",
       "      <td>97432</td>\n",
       "      <td>97432</td>\n",
       "      <td>&lt;660</td>\n",
       "      <td>39616</td>\n",
       "      <td>0.203301</td>\n",
       "      <td>3173</td>\n",
       "      <td>0.032566</td>\n",
       "      <td>36443</td>\n",
       "      <td>0.374035</td>\n",
       "      <td>0.868613</td>\n",
       "      <td>0.919906</td>\n",
       "    </tr>\n",
       "    <tr>\n",
       "      <th>14</th>\n",
       "      <td>[660-670)</td>\n",
       "      <td>5197</td>\n",
       "      <td>754</td>\n",
       "      <td>4443</td>\n",
       "      <td>194864</td>\n",
       "      <td>97432</td>\n",
       "      <td>97432</td>\n",
       "      <td>&lt;670</td>\n",
       "      <td>44813</td>\n",
       "      <td>0.229971</td>\n",
       "      <td>3927</td>\n",
       "      <td>0.040305</td>\n",
       "      <td>40886</td>\n",
       "      <td>0.419636</td>\n",
       "      <td>0.854916</td>\n",
       "      <td>0.912369</td>\n",
       "    </tr>\n",
       "    <tr>\n",
       "      <th>15</th>\n",
       "      <td>[670-680)</td>\n",
       "      <td>9970</td>\n",
       "      <td>1834</td>\n",
       "      <td>8136</td>\n",
       "      <td>194864</td>\n",
       "      <td>97432</td>\n",
       "      <td>97432</td>\n",
       "      <td>&lt;680</td>\n",
       "      <td>54783</td>\n",
       "      <td>0.281135</td>\n",
       "      <td>5761</td>\n",
       "      <td>0.059128</td>\n",
       "      <td>49022</td>\n",
       "      <td>0.503141</td>\n",
       "      <td>0.816048</td>\n",
       "      <td>0.894840</td>\n",
       "    </tr>\n",
       "    <tr>\n",
       "      <th>16</th>\n",
       "      <td>[680-690)</td>\n",
       "      <td>5578</td>\n",
       "      <td>1332</td>\n",
       "      <td>4246</td>\n",
       "      <td>194864</td>\n",
       "      <td>97432</td>\n",
       "      <td>97432</td>\n",
       "      <td>&lt;690</td>\n",
       "      <td>60361</td>\n",
       "      <td>0.309760</td>\n",
       "      <td>7093</td>\n",
       "      <td>0.072799</td>\n",
       "      <td>53268</td>\n",
       "      <td>0.546720</td>\n",
       "      <td>0.761205</td>\n",
       "      <td>0.882490</td>\n",
       "    </tr>\n",
       "    <tr>\n",
       "      <th>17</th>\n",
       "      <td>[690-700)</td>\n",
       "      <td>10735</td>\n",
       "      <td>3718</td>\n",
       "      <td>7017</td>\n",
       "      <td>194864</td>\n",
       "      <td>97432</td>\n",
       "      <td>97432</td>\n",
       "      <td>&lt;700</td>\n",
       "      <td>71096</td>\n",
       "      <td>0.364849</td>\n",
       "      <td>10811</td>\n",
       "      <td>0.110959</td>\n",
       "      <td>60285</td>\n",
       "      <td>0.618739</td>\n",
       "      <td>0.653656</td>\n",
       "      <td>0.847938</td>\n",
       "    </tr>\n",
       "    <tr>\n",
       "      <th>18</th>\n",
       "      <td>[700-710)</td>\n",
       "      <td>15255</td>\n",
       "      <td>6004</td>\n",
       "      <td>9251</td>\n",
       "      <td>194864</td>\n",
       "      <td>97432</td>\n",
       "      <td>97432</td>\n",
       "      <td>&lt;710</td>\n",
       "      <td>86351</td>\n",
       "      <td>0.443135</td>\n",
       "      <td>16815</td>\n",
       "      <td>0.172582</td>\n",
       "      <td>69536</td>\n",
       "      <td>0.713687</td>\n",
       "      <td>0.606424</td>\n",
       "      <td>0.805272</td>\n",
       "    </tr>\n",
       "    <tr>\n",
       "      <th>19</th>\n",
       "      <td>[710-720)</td>\n",
       "      <td>11836</td>\n",
       "      <td>5399</td>\n",
       "      <td>6437</td>\n",
       "      <td>194864</td>\n",
       "      <td>97432</td>\n",
       "      <td>97432</td>\n",
       "      <td>&lt;720</td>\n",
       "      <td>98187</td>\n",
       "      <td>0.503874</td>\n",
       "      <td>22214</td>\n",
       "      <td>0.227995</td>\n",
       "      <td>75973</td>\n",
       "      <td>0.779754</td>\n",
       "      <td>0.543849</td>\n",
       "      <td>0.773758</td>\n",
       "    </tr>\n",
       "    <tr>\n",
       "      <th>20</th>\n",
       "      <td>[720-730)</td>\n",
       "      <td>12657</td>\n",
       "      <td>6849</td>\n",
       "      <td>5808</td>\n",
       "      <td>194864</td>\n",
       "      <td>97432</td>\n",
       "      <td>97432</td>\n",
       "      <td>&lt;730</td>\n",
       "      <td>110844</td>\n",
       "      <td>0.568827</td>\n",
       "      <td>29063</td>\n",
       "      <td>0.298290</td>\n",
       "      <td>81781</td>\n",
       "      <td>0.839365</td>\n",
       "      <td>0.458877</td>\n",
       "      <td>0.737803</td>\n",
       "    </tr>\n",
       "    <tr>\n",
       "      <th>21</th>\n",
       "      <td>[730-740)</td>\n",
       "      <td>16179</td>\n",
       "      <td>11014</td>\n",
       "      <td>5165</td>\n",
       "      <td>194864</td>\n",
       "      <td>97432</td>\n",
       "      <td>97432</td>\n",
       "      <td>&lt;740</td>\n",
       "      <td>127023</td>\n",
       "      <td>0.651855</td>\n",
       "      <td>40077</td>\n",
       "      <td>0.411333</td>\n",
       "      <td>86946</td>\n",
       "      <td>0.892376</td>\n",
       "      <td>0.319241</td>\n",
       "      <td>0.684490</td>\n",
       "    </tr>\n",
       "    <tr>\n",
       "      <th>22</th>\n",
       "      <td>[740-750)</td>\n",
       "      <td>11942</td>\n",
       "      <td>8851</td>\n",
       "      <td>3091</td>\n",
       "      <td>194864</td>\n",
       "      <td>97432</td>\n",
       "      <td>97432</td>\n",
       "      <td>&lt;750</td>\n",
       "      <td>138965</td>\n",
       "      <td>0.713138</td>\n",
       "      <td>48928</td>\n",
       "      <td>0.502176</td>\n",
       "      <td>90037</td>\n",
       "      <td>0.924101</td>\n",
       "      <td>0.258834</td>\n",
       "      <td>0.647911</td>\n",
       "    </tr>\n",
       "    <tr>\n",
       "      <th>23</th>\n",
       "      <td>[750-760)</td>\n",
       "      <td>25996</td>\n",
       "      <td>21611</td>\n",
       "      <td>4385</td>\n",
       "      <td>194864</td>\n",
       "      <td>97432</td>\n",
       "      <td>97432</td>\n",
       "      <td>&lt;760</td>\n",
       "      <td>164961</td>\n",
       "      <td>0.846544</td>\n",
       "      <td>70539</td>\n",
       "      <td>0.723982</td>\n",
       "      <td>94422</td>\n",
       "      <td>0.969107</td>\n",
       "      <td>0.168680</td>\n",
       "      <td>0.572390</td>\n",
       "    </tr>\n",
       "    <tr>\n",
       "      <th>24</th>\n",
       "      <td>[760-770)</td>\n",
       "      <td>14141</td>\n",
       "      <td>12353</td>\n",
       "      <td>1788</td>\n",
       "      <td>194864</td>\n",
       "      <td>97432</td>\n",
       "      <td>97432</td>\n",
       "      <td>&lt;770</td>\n",
       "      <td>179102</td>\n",
       "      <td>0.919113</td>\n",
       "      <td>82892</td>\n",
       "      <td>0.850768</td>\n",
       "      <td>96210</td>\n",
       "      <td>0.987458</td>\n",
       "      <td>0.126441</td>\n",
       "      <td>0.537180</td>\n",
       "    </tr>\n",
       "    <tr>\n",
       "      <th>25</th>\n",
       "      <td>[770-780)</td>\n",
       "      <td>15762</td>\n",
       "      <td>14540</td>\n",
       "      <td>1222</td>\n",
       "      <td>194864</td>\n",
       "      <td>97432</td>\n",
       "      <td>97432</td>\n",
       "      <td>&lt;780</td>\n",
       "      <td>194864</td>\n",
       "      <td>1.000000</td>\n",
       "      <td>97432</td>\n",
       "      <td>1.000000</td>\n",
       "      <td>97432</td>\n",
       "      <td>1.000000</td>\n",
       "      <td>0.077528</td>\n",
       "      <td>0.500000</td>\n",
       "    </tr>\n",
       "  </tbody>\n",
       "</table>\n",
       "</div>"
      ],
      "text/plain": [
       "         分组名称   本组客户  本组好客户  本组坏客户     总客户   总好客户   总坏客户    阈值    损失客户  \\\n",
       "0   [520-530)      1      0      1  194864  97432  97432  <530       1   \n",
       "1   [530-540)     23      0     23  194864  97432  97432  <540      24   \n",
       "2   [540-550)    274      2    272  194864  97432  97432  <550     298   \n",
       "3   [550-560)    805     19    786  194864  97432  97432  <560    1103   \n",
       "4   [560-570)   1584     52   1532  194864  97432  97432  <570    2687   \n",
       "5   [570-580)   1400     66   1334  194864  97432  97432  <580    4087   \n",
       "6   [580-590)   2489    131   2358  194864  97432  97432  <590    6576   \n",
       "7   [590-600)   2257    108   2149  194864  97432  97432  <600    8833   \n",
       "8   [600-610)   3161    165   2996  194864  97432  97432  <610   11994   \n",
       "9   [610-620)   4758    260   4498  194864  97432  97432  <620   16752   \n",
       "10  [620-630)   4868    406   4462  194864  97432  97432  <630   21620   \n",
       "11  [630-640)   4120    331   3789  194864  97432  97432  <640   25740   \n",
       "12  [640-650)   5245    499   4746  194864  97432  97432  <650   30985   \n",
       "13  [650-660)   8631   1134   7497  194864  97432  97432  <660   39616   \n",
       "14  [660-670)   5197    754   4443  194864  97432  97432  <670   44813   \n",
       "15  [670-680)   9970   1834   8136  194864  97432  97432  <680   54783   \n",
       "16  [680-690)   5578   1332   4246  194864  97432  97432  <690   60361   \n",
       "17  [690-700)  10735   3718   7017  194864  97432  97432  <700   71096   \n",
       "18  [700-710)  15255   6004   9251  194864  97432  97432  <710   86351   \n",
       "19  [710-720)  11836   5399   6437  194864  97432  97432  <720   98187   \n",
       "20  [720-730)  12657   6849   5808  194864  97432  97432  <730  110844   \n",
       "21  [730-740)  16179  11014   5165  194864  97432  97432  <740  127023   \n",
       "22  [740-750)  11942   8851   3091  194864  97432  97432  <750  138965   \n",
       "23  [750-760)  25996  21611   4385  194864  97432  97432  <760  164961   \n",
       "24  [760-770)  14141  12353   1788  194864  97432  97432  <770  179102   \n",
       "25  [770-780)  15762  14540   1222  194864  97432  97432  <780  194864   \n",
       "\n",
       "       损失客户%  损失好客户    损失好客户%  剔除坏客户    剔除坏客户%   本组坏客户占比  损失客户中坏客户占比  \n",
       "0   0.000005      0  0.000000      1  0.000010  1.000000    1.000000  \n",
       "1   0.000123      0  0.000000     24  0.000246  1.000000    1.000000  \n",
       "2   0.001529      2  0.000021    296  0.003038  0.992701    0.993289  \n",
       "3   0.005660     21  0.000216   1082  0.011105  0.976398    0.980961  \n",
       "4   0.013789     73  0.000749   2614  0.026829  0.967172    0.972832  \n",
       "5   0.020974    139  0.001427   3948  0.040521  0.952857    0.965990  \n",
       "6   0.033747    270  0.002771   6306  0.064722  0.947368    0.958942  \n",
       "7   0.045329    378  0.003880   8455  0.086778  0.952149    0.957206  \n",
       "8   0.061551    543  0.005573  11451  0.117528  0.947801    0.954727  \n",
       "9   0.085968    803  0.008242  15949  0.163694  0.945355    0.952065  \n",
       "10  0.110949   1209  0.012409  20411  0.209490  0.916598    0.944080  \n",
       "11  0.132092   1540  0.015806  24200  0.248378  0.919660    0.940171  \n",
       "12  0.159008   2039  0.020927  28946  0.297089  0.904862    0.934194  \n",
       "13  0.203301   3173  0.032566  36443  0.374035  0.868613    0.919906  \n",
       "14  0.229971   3927  0.040305  40886  0.419636  0.854916    0.912369  \n",
       "15  0.281135   5761  0.059128  49022  0.503141  0.816048    0.894840  \n",
       "16  0.309760   7093  0.072799  53268  0.546720  0.761205    0.882490  \n",
       "17  0.364849  10811  0.110959  60285  0.618739  0.653656    0.847938  \n",
       "18  0.443135  16815  0.172582  69536  0.713687  0.606424    0.805272  \n",
       "19  0.503874  22214  0.227995  75973  0.779754  0.543849    0.773758  \n",
       "20  0.568827  29063  0.298290  81781  0.839365  0.458877    0.737803  \n",
       "21  0.651855  40077  0.411333  86946  0.892376  0.319241    0.684490  \n",
       "22  0.713138  48928  0.502176  90037  0.924101  0.258834    0.647911  \n",
       "23  0.846544  70539  0.723982  94422  0.969107  0.168680    0.572390  \n",
       "24  0.919113  82892  0.850768  96210  0.987458  0.126441    0.537180  \n",
       "25  1.000000  97432  1.000000  97432  1.000000  0.077528    0.500000  "
      ]
     },
     "execution_count": 762,
     "metadata": {},
     "output_type": "execute_result"
    }
   ],
   "source": [
    "score_thd"
   ]
  },
  {
   "cell_type": "markdown",
   "id": "f792cb66",
   "metadata": {},
   "source": [
    "以阈值表的第一行为例，可以这样理解：如果以530分为阈值，将有1个用户被拒绝，这个用户是坏用户。阈值表的每个字段都是为了评估以xxx分为阈值时，所带来的损失（筛掉的好用户）和收益（筛掉的坏用户）。需要结合业务找到效益均衡点，并且不能损失用户过多，才能确定最终的评分阈值。"
   ]
  },
  {
   "cell_type": "code",
   "execution_count": 770,
   "id": "3c633dfa",
   "metadata": {},
   "outputs": [],
   "source": [
    "#保存分数阈值表\n",
    "with pd.ExcelWriter('threshold.xlsx') as writer:\n",
    "    score_thd.to_excel(writer,sheet_name = \"threshold\")"
   ]
  },
  {
   "cell_type": "code",
   "execution_count": 763,
   "id": "d64b3a19",
   "metadata": {},
   "outputs": [
    {
     "data": {
      "image/png": "[encoded data removed]",
      "text/plain": [
       "<Figure size 640x480 with 1 Axes>"
      ]
     },
     "metadata": {},
     "output_type": "display_data"
    }
   ],
   "source": [
    "# 画出分数分布\n",
    "x_axis = score_thd['分组名称'].apply(lambda x: x.split('-')[0].replace('[',''))  \n",
    "plt.bar(x_axis, score_thd['本组好客户'], align=\"center\", color=\"#66c2a5\",label=\"good\")\n",
    "plt.bar(x_axis, score_thd['本组坏客户'], align=\"center\", bottom=score_thd['本组好客户'], color='r', label=\"bad\")\n",
    "plt.rcParams[\"figure.figsize\"] = (9, 4) # 设置figure_size尺寸\n",
    "plt.legend()\n",
    "plt.show()"
   ]
  },
  {
   "cell_type": "markdown",
   "id": "5cf35a42",
   "metadata": {},
   "source": [
    "<p><span style=\"font-size:20px\">十、总结</span></p>\n",
    "\n",
    "本文基于kaggle上的用户信用数据构建逻辑回归模型，并转化为评分卡，进行用户是否有违约可能性的预测。模型最终保留的评分特征有RevolvingUtilizationOfUnsecuredLines、age、NumberOfTime30-59DaysPastDueNotWorse、NumberOfTimes90DaysLate、NumberOfTime60-89DaysPastDueNotWorse这五项，模型的测试AUC达到0.85，具有较好的性能。\n",
    "\n",
    "最终模型概率表达式如下：\n",
    "\n",
    "$$P=\\frac{1}{1+e^{-[0.68056389*RevolvingUtilizationOfUnsecuredLines_{woe}+0.52225767*age_{woe}+0.65002843*NumberOfTime30-59DaysPastDueNotWorse_{woe}+0.64861883*NumberOfTimes90DaysLate_{woe}+0.49774068*NumberOfTime60-89DaysPastDueNotWorse_{woe}+0.02552065319436435\n",
    "]}}$$\n",
    "\n",
    "分数表达式如下：\n",
    "\n",
    "$$Score=712.8771237954945\n",
    "-28.85390081777927*[0.68056389*RevolvingUtilizationOfUnsecuredLines_{woe}+0.52225767*age_{woe}+0.65002843*NumberOfTime30-59DaysPastDueNotWorse_{woe}+0.64861883*NumberOfTimes90DaysLate_{woe}+0.49774068*NumberOfTime60-89DaysPastDueNotWorse_{woe}+0.02552065319436435\n",
    "]$$"
   ]
  }
 ],
 "metadata": {
  "kernelspec": {
   "display_name": "Python 3 (ipykernel)",
   "language": "python",
   "name": "python3"
  },
  "language_info": {
   "codemirror_mode": {
    "name": "ipython",
    "version": 3
   },
   "file_extension": ".py",
   "mimetype": "text/x-python",
   "name": "python",
   "nbconvert_exporter": "python",
   "pygments_lexer": "ipython3",
   "version": "3.9.6"
  }
 },
 "nbformat": 4,
 "nbformat_minor": 5
}
